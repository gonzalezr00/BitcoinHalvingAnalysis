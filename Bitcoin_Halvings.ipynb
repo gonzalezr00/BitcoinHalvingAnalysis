{
  "nbformat": 4,
  "nbformat_minor": 0,
  "metadata": {
    "colab": {
      "provenance": []
    },
    "kernelspec": {
      "name": "python3",
      "display_name": "Python 3"
    },
    "language_info": {
      "name": "python"
    }
  },
  "cells": [
    {
      "cell_type": "code",
      "execution_count": null,
      "metadata": {
        "colab": {
          "base_uri": "https://localhost:8080/"
        },
        "id": "Ag6tXyaDF8YU",
        "outputId": "f5ccb853-fd0f-4350-84c7-0bccd2415db5"
      },
      "outputs": [
        {
          "output_type": "stream",
          "name": "stdout",
          "text": [
            "Mounted at /gdrive\n"
          ]
        }
      ],
      "source": [
        "# mount my Google Drive on the VM\n",
        "\n",
        "from google.colab import drive\n",
        "drive.mount('/gdrive')"
      ]
    },
    {
      "cell_type": "code",
      "source": [
        "#\n",
        "# Setup\n",
        "#\n",
        "\n",
        "import os\n",
        "from pathlib import Path\n",
        "import numpy as np\n",
        "import pandas as pd\n",
        "\n",
        "import matplotlib.pyplot as plt\n",
        "import matplotlib.ticker as mtick\n",
        "\n",
        "pd.set_option('display.max_columns', None)"
      ],
      "metadata": {
        "id": "O3R_E272GFKW"
      },
      "execution_count": null,
      "outputs": []
    },
    {
      "cell_type": "code",
      "source": [
        "#\n",
        "# Read the csv file containing block data\n",
        "#\n",
        "\n",
        "# where the data file is located\n",
        "DIR_DATA = \"/gdrive/MyDrive/Classroom/UE05 FinTech M2 Finance FIT 2023-2024/data/bitcoin-blocks\"\n",
        "\n",
        "bk = pd.read_csv(os.path.join(DIR_DATA, 'blocks_for_FIT_satoshis.csv'),\n",
        "                 parse_dates=['time'],\n",
        "                 nrows=None) # use a number instead of None to read only a few lines\n",
        "\n",
        "#display(bk.dtypes)\n",
        "bk"
      ],
      "metadata": {
        "colab": {
          "base_uri": "https://localhost:8080/",
          "height": 424
        },
        "id": "qV9brelBGVeJ",
        "outputId": "7d919290-7e9c-4a16-e5f4-6142b302a309"
      },
      "execution_count": null,
      "outputs": [
        {
          "output_type": "execute_result",
          "data": {
            "text/plain": [
              "                      time  height     revenue        fee  tx_count  \\\n",
              "0      2009-01-03 18:15:05       0  5000000000          0         1   \n",
              "1      2009-01-09 02:54:25       1  5000000000          0         1   \n",
              "2      2009-01-09 02:55:44       2  5000000000          0         1   \n",
              "3      2009-01-09 03:02:53       3  5000000000          0         1   \n",
              "4      2009-01-09 03:16:28       4  5000000000          0         1   \n",
              "...                    ...     ...         ...        ...       ...   \n",
              "665563 2021-01-11 10:11:04  665563   656240436   31240436      2368   \n",
              "665564 2021-01-11 10:27:46  665564   726671095  101671095      1707   \n",
              "665565 2021-01-11 10:36:23  665565   713357849   88357849      2014   \n",
              "665566 2021-01-11 10:41:24  665566   681664764   56664764      2688   \n",
              "665567 2021-01-11 10:41:49  665567   645692685   20692685      1969   \n",
              "\n",
              "        base_size  input_count    input_value  output_count   output_value  \\\n",
              "0             285            0              0             1     5000000000   \n",
              "1             215            0              0             1     5000000000   \n",
              "2             215            0              0             1     5000000000   \n",
              "3             215            0              0             1     5000000000   \n",
              "4             215            0              0             1     5000000000   \n",
              "...           ...          ...            ...           ...            ...   \n",
              "665563     954366         5876   118095570100          5233   118720570100   \n",
              "665564     735837         6301  2019902415800          5054  2020527415800   \n",
              "665565     759280         6195  3297905805352          5796  3298530805352   \n",
              "665566     900664         6425   357817001468          6082   358442001468   \n",
              "665567     930500         5316   151580227648          8085   152205227648   \n",
              "\n",
              "        protocol_block_reward    difficulty  \n",
              "0                  5000000000  1.000000e+00  \n",
              "1                  5000000000  1.000000e+00  \n",
              "2                  5000000000  1.000000e+00  \n",
              "3                  5000000000  1.000000e+00  \n",
              "4                  5000000000  1.000000e+00  \n",
              "...                       ...           ...  \n",
              "665563              625000000  2.060742e+13  \n",
              "665564              625000000  2.060742e+13  \n",
              "665565              625000000  2.060742e+13  \n",
              "665566              625000000  2.060742e+13  \n",
              "665567              625000000  2.060742e+13  \n",
              "\n",
              "[665568 rows x 12 columns]"
            ],
            "text/html": [
              "\n",
              "  <div id=\"df-2646f1b5-bcc0-4aae-98d3-a4409d7747b3\" class=\"colab-df-container\">\n",
              "    <div>\n",
              "<style scoped>\n",
              "    .dataframe tbody tr th:only-of-type {\n",
              "        vertical-align: middle;\n",
              "    }\n",
              "\n",
              "    .dataframe tbody tr th {\n",
              "        vertical-align: top;\n",
              "    }\n",
              "\n",
              "    .dataframe thead th {\n",
              "        text-align: right;\n",
              "    }\n",
              "</style>\n",
              "<table border=\"1\" class=\"dataframe\">\n",
              "  <thead>\n",
              "    <tr style=\"text-align: right;\">\n",
              "      <th></th>\n",
              "      <th>time</th>\n",
              "      <th>height</th>\n",
              "      <th>revenue</th>\n",
              "      <th>fee</th>\n",
              "      <th>tx_count</th>\n",
              "      <th>base_size</th>\n",
              "      <th>input_count</th>\n",
              "      <th>input_value</th>\n",
              "      <th>output_count</th>\n",
              "      <th>output_value</th>\n",
              "      <th>protocol_block_reward</th>\n",
              "      <th>difficulty</th>\n",
              "    </tr>\n",
              "  </thead>\n",
              "  <tbody>\n",
              "    <tr>\n",
              "      <th>0</th>\n",
              "      <td>2009-01-03 18:15:05</td>\n",
              "      <td>0</td>\n",
              "      <td>5000000000</td>\n",
              "      <td>0</td>\n",
              "      <td>1</td>\n",
              "      <td>285</td>\n",
              "      <td>0</td>\n",
              "      <td>0</td>\n",
              "      <td>1</td>\n",
              "      <td>5000000000</td>\n",
              "      <td>5000000000</td>\n",
              "      <td>1.000000e+00</td>\n",
              "    </tr>\n",
              "    <tr>\n",
              "      <th>1</th>\n",
              "      <td>2009-01-09 02:54:25</td>\n",
              "      <td>1</td>\n",
              "      <td>5000000000</td>\n",
              "      <td>0</td>\n",
              "      <td>1</td>\n",
              "      <td>215</td>\n",
              "      <td>0</td>\n",
              "      <td>0</td>\n",
              "      <td>1</td>\n",
              "      <td>5000000000</td>\n",
              "      <td>5000000000</td>\n",
              "      <td>1.000000e+00</td>\n",
              "    </tr>\n",
              "    <tr>\n",
              "      <th>2</th>\n",
              "      <td>2009-01-09 02:55:44</td>\n",
              "      <td>2</td>\n",
              "      <td>5000000000</td>\n",
              "      <td>0</td>\n",
              "      <td>1</td>\n",
              "      <td>215</td>\n",
              "      <td>0</td>\n",
              "      <td>0</td>\n",
              "      <td>1</td>\n",
              "      <td>5000000000</td>\n",
              "      <td>5000000000</td>\n",
              "      <td>1.000000e+00</td>\n",
              "    </tr>\n",
              "    <tr>\n",
              "      <th>3</th>\n",
              "      <td>2009-01-09 03:02:53</td>\n",
              "      <td>3</td>\n",
              "      <td>5000000000</td>\n",
              "      <td>0</td>\n",
              "      <td>1</td>\n",
              "      <td>215</td>\n",
              "      <td>0</td>\n",
              "      <td>0</td>\n",
              "      <td>1</td>\n",
              "      <td>5000000000</td>\n",
              "      <td>5000000000</td>\n",
              "      <td>1.000000e+00</td>\n",
              "    </tr>\n",
              "    <tr>\n",
              "      <th>4</th>\n",
              "      <td>2009-01-09 03:16:28</td>\n",
              "      <td>4</td>\n",
              "      <td>5000000000</td>\n",
              "      <td>0</td>\n",
              "      <td>1</td>\n",
              "      <td>215</td>\n",
              "      <td>0</td>\n",
              "      <td>0</td>\n",
              "      <td>1</td>\n",
              "      <td>5000000000</td>\n",
              "      <td>5000000000</td>\n",
              "      <td>1.000000e+00</td>\n",
              "    </tr>\n",
              "    <tr>\n",
              "      <th>...</th>\n",
              "      <td>...</td>\n",
              "      <td>...</td>\n",
              "      <td>...</td>\n",
              "      <td>...</td>\n",
              "      <td>...</td>\n",
              "      <td>...</td>\n",
              "      <td>...</td>\n",
              "      <td>...</td>\n",
              "      <td>...</td>\n",
              "      <td>...</td>\n",
              "      <td>...</td>\n",
              "      <td>...</td>\n",
              "    </tr>\n",
              "    <tr>\n",
              "      <th>665563</th>\n",
              "      <td>2021-01-11 10:11:04</td>\n",
              "      <td>665563</td>\n",
              "      <td>656240436</td>\n",
              "      <td>31240436</td>\n",
              "      <td>2368</td>\n",
              "      <td>954366</td>\n",
              "      <td>5876</td>\n",
              "      <td>118095570100</td>\n",
              "      <td>5233</td>\n",
              "      <td>118720570100</td>\n",
              "      <td>625000000</td>\n",
              "      <td>2.060742e+13</td>\n",
              "    </tr>\n",
              "    <tr>\n",
              "      <th>665564</th>\n",
              "      <td>2021-01-11 10:27:46</td>\n",
              "      <td>665564</td>\n",
              "      <td>726671095</td>\n",
              "      <td>101671095</td>\n",
              "      <td>1707</td>\n",
              "      <td>735837</td>\n",
              "      <td>6301</td>\n",
              "      <td>2019902415800</td>\n",
              "      <td>5054</td>\n",
              "      <td>2020527415800</td>\n",
              "      <td>625000000</td>\n",
              "      <td>2.060742e+13</td>\n",
              "    </tr>\n",
              "    <tr>\n",
              "      <th>665565</th>\n",
              "      <td>2021-01-11 10:36:23</td>\n",
              "      <td>665565</td>\n",
              "      <td>713357849</td>\n",
              "      <td>88357849</td>\n",
              "      <td>2014</td>\n",
              "      <td>759280</td>\n",
              "      <td>6195</td>\n",
              "      <td>3297905805352</td>\n",
              "      <td>5796</td>\n",
              "      <td>3298530805352</td>\n",
              "      <td>625000000</td>\n",
              "      <td>2.060742e+13</td>\n",
              "    </tr>\n",
              "    <tr>\n",
              "      <th>665566</th>\n",
              "      <td>2021-01-11 10:41:24</td>\n",
              "      <td>665566</td>\n",
              "      <td>681664764</td>\n",
              "      <td>56664764</td>\n",
              "      <td>2688</td>\n",
              "      <td>900664</td>\n",
              "      <td>6425</td>\n",
              "      <td>357817001468</td>\n",
              "      <td>6082</td>\n",
              "      <td>358442001468</td>\n",
              "      <td>625000000</td>\n",
              "      <td>2.060742e+13</td>\n",
              "    </tr>\n",
              "    <tr>\n",
              "      <th>665567</th>\n",
              "      <td>2021-01-11 10:41:49</td>\n",
              "      <td>665567</td>\n",
              "      <td>645692685</td>\n",
              "      <td>20692685</td>\n",
              "      <td>1969</td>\n",
              "      <td>930500</td>\n",
              "      <td>5316</td>\n",
              "      <td>151580227648</td>\n",
              "      <td>8085</td>\n",
              "      <td>152205227648</td>\n",
              "      <td>625000000</td>\n",
              "      <td>2.060742e+13</td>\n",
              "    </tr>\n",
              "  </tbody>\n",
              "</table>\n",
              "<p>665568 rows × 12 columns</p>\n",
              "</div>\n",
              "    <div class=\"colab-df-buttons\">\n",
              "\n",
              "  <div class=\"colab-df-container\">\n",
              "    <button class=\"colab-df-convert\" onclick=\"convertToInteractive('df-2646f1b5-bcc0-4aae-98d3-a4409d7747b3')\"\n",
              "            title=\"Convert this dataframe to an interactive table.\"\n",
              "            style=\"display:none;\">\n",
              "\n",
              "  <svg xmlns=\"http://www.w3.org/2000/svg\" height=\"24px\" viewBox=\"0 -960 960 960\">\n",
              "    <path d=\"M120-120v-720h720v720H120Zm60-500h600v-160H180v160Zm220 220h160v-160H400v160Zm0 220h160v-160H400v160ZM180-400h160v-160H180v160Zm440 0h160v-160H620v160ZM180-180h160v-160H180v160Zm440 0h160v-160H620v160Z\"/>\n",
              "  </svg>\n",
              "    </button>\n",
              "\n",
              "  <style>\n",
              "    .colab-df-container {\n",
              "      display:flex;\n",
              "      gap: 12px;\n",
              "    }\n",
              "\n",
              "    .colab-df-convert {\n",
              "      background-color: #E8F0FE;\n",
              "      border: none;\n",
              "      border-radius: 50%;\n",
              "      cursor: pointer;\n",
              "      display: none;\n",
              "      fill: #1967D2;\n",
              "      height: 32px;\n",
              "      padding: 0 0 0 0;\n",
              "      width: 32px;\n",
              "    }\n",
              "\n",
              "    .colab-df-convert:hover {\n",
              "      background-color: #E2EBFA;\n",
              "      box-shadow: 0px 1px 2px rgba(60, 64, 67, 0.3), 0px 1px 3px 1px rgba(60, 64, 67, 0.15);\n",
              "      fill: #174EA6;\n",
              "    }\n",
              "\n",
              "    .colab-df-buttons div {\n",
              "      margin-bottom: 4px;\n",
              "    }\n",
              "\n",
              "    [theme=dark] .colab-df-convert {\n",
              "      background-color: #3B4455;\n",
              "      fill: #D2E3FC;\n",
              "    }\n",
              "\n",
              "    [theme=dark] .colab-df-convert:hover {\n",
              "      background-color: #434B5C;\n",
              "      box-shadow: 0px 1px 3px 1px rgba(0, 0, 0, 0.15);\n",
              "      filter: drop-shadow(0px 1px 2px rgba(0, 0, 0, 0.3));\n",
              "      fill: #FFFFFF;\n",
              "    }\n",
              "  </style>\n",
              "\n",
              "    <script>\n",
              "      const buttonEl =\n",
              "        document.querySelector('#df-2646f1b5-bcc0-4aae-98d3-a4409d7747b3 button.colab-df-convert');\n",
              "      buttonEl.style.display =\n",
              "        google.colab.kernel.accessAllowed ? 'block' : 'none';\n",
              "\n",
              "      async function convertToInteractive(key) {\n",
              "        const element = document.querySelector('#df-2646f1b5-bcc0-4aae-98d3-a4409d7747b3');\n",
              "        const dataTable =\n",
              "          await google.colab.kernel.invokeFunction('convertToInteractive',\n",
              "                                                    [key], {});\n",
              "        if (!dataTable) return;\n",
              "\n",
              "        const docLinkHtml = 'Like what you see? Visit the ' +\n",
              "          '<a target=\"_blank\" href=https://colab.research.google.com/notebooks/data_table.ipynb>data table notebook</a>'\n",
              "          + ' to learn more about interactive tables.';\n",
              "        element.innerHTML = '';\n",
              "        dataTable['output_type'] = 'display_data';\n",
              "        await google.colab.output.renderOutput(dataTable, element);\n",
              "        const docLink = document.createElement('div');\n",
              "        docLink.innerHTML = docLinkHtml;\n",
              "        element.appendChild(docLink);\n",
              "      }\n",
              "    </script>\n",
              "  </div>\n",
              "\n",
              "\n",
              "<div id=\"df-b8dd54d6-33ff-442b-b59b-c1f91bc75447\">\n",
              "  <button class=\"colab-df-quickchart\" onclick=\"quickchart('df-b8dd54d6-33ff-442b-b59b-c1f91bc75447')\"\n",
              "            title=\"Suggest charts\"\n",
              "            style=\"display:none;\">\n",
              "\n",
              "<svg xmlns=\"http://www.w3.org/2000/svg\" height=\"24px\"viewBox=\"0 0 24 24\"\n",
              "     width=\"24px\">\n",
              "    <g>\n",
              "        <path d=\"M19 3H5c-1.1 0-2 .9-2 2v14c0 1.1.9 2 2 2h14c1.1 0 2-.9 2-2V5c0-1.1-.9-2-2-2zM9 17H7v-7h2v7zm4 0h-2V7h2v10zm4 0h-2v-4h2v4z\"/>\n",
              "    </g>\n",
              "</svg>\n",
              "  </button>\n",
              "\n",
              "<style>\n",
              "  .colab-df-quickchart {\n",
              "      --bg-color: #E8F0FE;\n",
              "      --fill-color: #1967D2;\n",
              "      --hover-bg-color: #E2EBFA;\n",
              "      --hover-fill-color: #174EA6;\n",
              "      --disabled-fill-color: #AAA;\n",
              "      --disabled-bg-color: #DDD;\n",
              "  }\n",
              "\n",
              "  [theme=dark] .colab-df-quickchart {\n",
              "      --bg-color: #3B4455;\n",
              "      --fill-color: #D2E3FC;\n",
              "      --hover-bg-color: #434B5C;\n",
              "      --hover-fill-color: #FFFFFF;\n",
              "      --disabled-bg-color: #3B4455;\n",
              "      --disabled-fill-color: #666;\n",
              "  }\n",
              "\n",
              "  .colab-df-quickchart {\n",
              "    background-color: var(--bg-color);\n",
              "    border: none;\n",
              "    border-radius: 50%;\n",
              "    cursor: pointer;\n",
              "    display: none;\n",
              "    fill: var(--fill-color);\n",
              "    height: 32px;\n",
              "    padding: 0;\n",
              "    width: 32px;\n",
              "  }\n",
              "\n",
              "  .colab-df-quickchart:hover {\n",
              "    background-color: var(--hover-bg-color);\n",
              "    box-shadow: 0 1px 2px rgba(60, 64, 67, 0.3), 0 1px 3px 1px rgba(60, 64, 67, 0.15);\n",
              "    fill: var(--button-hover-fill-color);\n",
              "  }\n",
              "\n",
              "  .colab-df-quickchart-complete:disabled,\n",
              "  .colab-df-quickchart-complete:disabled:hover {\n",
              "    background-color: var(--disabled-bg-color);\n",
              "    fill: var(--disabled-fill-color);\n",
              "    box-shadow: none;\n",
              "  }\n",
              "\n",
              "  .colab-df-spinner {\n",
              "    border: 2px solid var(--fill-color);\n",
              "    border-color: transparent;\n",
              "    border-bottom-color: var(--fill-color);\n",
              "    animation:\n",
              "      spin 1s steps(1) infinite;\n",
              "  }\n",
              "\n",
              "  @keyframes spin {\n",
              "    0% {\n",
              "      border-color: transparent;\n",
              "      border-bottom-color: var(--fill-color);\n",
              "      border-left-color: var(--fill-color);\n",
              "    }\n",
              "    20% {\n",
              "      border-color: transparent;\n",
              "      border-left-color: var(--fill-color);\n",
              "      border-top-color: var(--fill-color);\n",
              "    }\n",
              "    30% {\n",
              "      border-color: transparent;\n",
              "      border-left-color: var(--fill-color);\n",
              "      border-top-color: var(--fill-color);\n",
              "      border-right-color: var(--fill-color);\n",
              "    }\n",
              "    40% {\n",
              "      border-color: transparent;\n",
              "      border-right-color: var(--fill-color);\n",
              "      border-top-color: var(--fill-color);\n",
              "    }\n",
              "    60% {\n",
              "      border-color: transparent;\n",
              "      border-right-color: var(--fill-color);\n",
              "    }\n",
              "    80% {\n",
              "      border-color: transparent;\n",
              "      border-right-color: var(--fill-color);\n",
              "      border-bottom-color: var(--fill-color);\n",
              "    }\n",
              "    90% {\n",
              "      border-color: transparent;\n",
              "      border-bottom-color: var(--fill-color);\n",
              "    }\n",
              "  }\n",
              "</style>\n",
              "\n",
              "  <script>\n",
              "    async function quickchart(key) {\n",
              "      const quickchartButtonEl =\n",
              "        document.querySelector('#' + key + ' button');\n",
              "      quickchartButtonEl.disabled = true;  // To prevent multiple clicks.\n",
              "      quickchartButtonEl.classList.add('colab-df-spinner');\n",
              "      try {\n",
              "        const charts = await google.colab.kernel.invokeFunction(\n",
              "            'suggestCharts', [key], {});\n",
              "      } catch (error) {\n",
              "        console.error('Error during call to suggestCharts:', error);\n",
              "      }\n",
              "      quickchartButtonEl.classList.remove('colab-df-spinner');\n",
              "      quickchartButtonEl.classList.add('colab-df-quickchart-complete');\n",
              "    }\n",
              "    (() => {\n",
              "      let quickchartButtonEl =\n",
              "        document.querySelector('#df-b8dd54d6-33ff-442b-b59b-c1f91bc75447 button');\n",
              "      quickchartButtonEl.style.display =\n",
              "        google.colab.kernel.accessAllowed ? 'block' : 'none';\n",
              "    })();\n",
              "  </script>\n",
              "</div>\n",
              "    </div>\n",
              "  </div>\n"
            ]
          },
          "metadata": {},
          "execution_count": 3
        }
      ]
    },
    {
      "cell_type": "code",
      "source": [
        "bk['fee_a'] = bk['fee']/100000000"
      ],
      "metadata": {
        "id": "FCPYy9RBnJkM"
      },
      "execution_count": null,
      "outputs": []
    },
    {
      "cell_type": "code",
      "source": [
        "# Function to calculate the distance to 210000 and its multiples\n",
        "def calculate_distance(number):\n",
        "    base_value = 210000\n",
        "    return abs(number - (base_value)*(1+number//base_value)) if number!=(base_value)*(number//base_value) else 210000\n",
        "\n",
        "bk['Next_Halving'] = bk['height'].apply(calculate_distance)\n",
        "bk['Next_Halving'][0] = 210000"
      ],
      "metadata": {
        "colab": {
          "base_uri": "https://localhost:8080/"
        },
        "id": "dE1poMnGGnsS",
        "outputId": "dae546dd-c47b-48f3-abc4-5f8d66ee62be"
      },
      "execution_count": null,
      "outputs": [
        {
          "output_type": "stream",
          "name": "stderr",
          "text": [
            "<ipython-input-5-a4bc6c7cf7cb>:7: SettingWithCopyWarning: \n",
            "A value is trying to be set on a copy of a slice from a DataFrame\n",
            "\n",
            "See the caveats in the documentation: https://pandas.pydata.org/pandas-docs/stable/user_guide/indexing.html#returning-a-view-versus-a-copy\n",
            "  bk['Next_Halving'][0] = 210000\n"
          ]
        }
      ]
    },
    {
      "cell_type": "code",
      "source": [
        "bk['fee_lag'] = bk['fee'].shift()"
      ],
      "metadata": {
        "id": "r4L-4QdNUXGi"
      },
      "execution_count": null,
      "outputs": []
    },
    {
      "cell_type": "code",
      "source": [
        "import statsmodels.api as sm\n",
        "import matplotlib.pyplot as plt\n",
        "\n",
        "def plot_acf(data, lags=40):\n",
        "    # Calculate ACF\n",
        "    acf_result = sm.tsa.acf(data, nlags=lags)\n",
        "\n",
        "    # Plot ACF\n",
        "    plt.figure(figsize=(10, 6))\n",
        "    plt.stem(range(lags + 1), acf_result, use_line_collection=True)\n",
        "    plt.title('Autocorrelation Function (ACF)')\n",
        "    plt.xlabel('Lag')\n",
        "    plt.ylabel('Autocorrelation')\n",
        "    plt.show()"
      ],
      "metadata": {
        "id": "y4Deq0oBNEzW"
      },
      "execution_count": null,
      "outputs": []
    },
    {
      "cell_type": "code",
      "source": [
        "plot_acf(bk['fee'])"
      ],
      "metadata": {
        "colab": {
          "base_uri": "https://localhost:8080/",
          "height": 619
        },
        "id": "vtUQAL0GNG-l",
        "outputId": "6dd00fee-1089-4eb6-b6d8-0e8b1ae630d8"
      },
      "execution_count": null,
      "outputs": [
        {
          "output_type": "stream",
          "name": "stderr",
          "text": [
            "<ipython-input-9-6750eb5bbb7a>:10: MatplotlibDeprecationWarning: The 'use_line_collection' parameter of stem() was deprecated in Matplotlib 3.6 and will be removed two minor releases later. If any parameter follows 'use_line_collection', they should be passed as keyword, not positionally.\n",
            "  plt.stem(range(lags + 1), acf_result, use_line_collection=True)\n"
          ]
        },
        {
          "output_type": "display_data",
          "data": {
            "text/plain": [
              "<Figure size 1000x600 with 1 Axes>"
            ],
            "image/png": "[encoded data removed]"
          },
          "metadata": {}
        }
      ]
    },
    {
      "cell_type": "code",
      "source": [
        "\n",
        "def plot_pacf(data, lags=40):\n",
        "    # Calculate PACF\n",
        "    pacf_result = sm.tsa.pacf(data, nlags=lags, method='ols')\n",
        "\n",
        "    # Plot PACF\n",
        "    plt.figure(figsize=(10, 6))\n",
        "    plt.stem(range(lags + 1), pacf_result, use_line_collection=True)\n",
        "    plt.title('Partial Autocorrelation Function (PACF)')\n",
        "    plt.xlabel('Lag')\n",
        "    plt.ylabel('Partial Autocorrelation')\n",
        "    plt.show()"
      ],
      "metadata": {
        "id": "SN0qqTN6Nj_R"
      },
      "execution_count": null,
      "outputs": []
    },
    {
      "cell_type": "code",
      "source": [
        "plot_pacf(bk['fee'])"
      ],
      "metadata": {
        "colab": {
          "base_uri": "https://localhost:8080/",
          "height": 619
        },
        "id": "8ZDsQMq8Nlc8",
        "outputId": "0bfa7125-5700-49a1-869f-14f9901bfadf"
      },
      "execution_count": null,
      "outputs": [
        {
          "output_type": "stream",
          "name": "stderr",
          "text": [
            "<ipython-input-11-ac8a7e9ac039>:7: MatplotlibDeprecationWarning: The 'use_line_collection' parameter of stem() was deprecated in Matplotlib 3.6 and will be removed two minor releases later. If any parameter follows 'use_line_collection', they should be passed as keyword, not positionally.\n",
            "  plt.stem(range(lags + 1), pacf_result, use_line_collection=True)\n"
          ]
        },
        {
          "output_type": "display_data",
          "data": {
            "text/plain": [
              "<Figure size 1000x600 with 1 Axes>"
            ],
            "image/png": "[encoded data removed]"
          },
          "metadata": {}
        }
      ]
    },
    {
      "cell_type": "code",
      "source": [
        "pip install pmdarima\n"
      ],
      "metadata": {
        "id": "ltBfN7YPUHdx",
        "colab": {
          "base_uri": "https://localhost:8080/"
        },
        "outputId": "6feabe50-6f9f-4e9c-dc93-32b5a1ccd15d"
      },
      "execution_count": null,
      "outputs": [
        {
          "output_type": "stream",
          "name": "stdout",
          "text": [
            "Collecting pmdarima\n",
            "  Downloading pmdarima-2.0.4-cp310-cp310-manylinux_2_17_x86_64.manylinux2014_x86_64.manylinux_2_28_x86_64.whl (2.1 MB)\n",
            "\u001b[2K     \u001b[90m━━━━━━━━━━━━━━━━━━━━━━━━━━━━━━━━━━━━━━━━\u001b[0m \u001b[32m2.1/2.1 MB\u001b[0m \u001b[31m19.0 MB/s\u001b[0m eta \u001b[36m0:00:00\u001b[0m\n",
            "\u001b[?25hRequirement already satisfied: joblib>=0.11 in /usr/local/lib/python3.10/dist-packages (from pmdarima) (1.3.2)\n",
            "Requirement already satisfied: Cython!=0.29.18,!=0.29.31,>=0.29 in /usr/local/lib/python3.10/dist-packages (from pmdarima) (3.0.5)\n",
            "Requirement already satisfied: numpy>=1.21.2 in /usr/local/lib/python3.10/dist-packages (from pmdarima) (1.23.5)\n",
            "Requirement already satisfied: pandas>=0.19 in /usr/local/lib/python3.10/dist-packages (from pmdarima) (1.5.3)\n",
            "Requirement already satisfied: scikit-learn>=0.22 in /usr/local/lib/python3.10/dist-packages (from pmdarima) (1.2.2)\n",
            "Requirement already satisfied: scipy>=1.3.2 in /usr/local/lib/python3.10/dist-packages (from pmdarima) (1.11.3)\n",
            "Requirement already satisfied: statsmodels>=0.13.2 in /usr/local/lib/python3.10/dist-packages (from pmdarima) (0.14.0)\n",
            "Requirement already satisfied: urllib3 in /usr/local/lib/python3.10/dist-packages (from pmdarima) (2.0.7)\n",
            "Requirement already satisfied: setuptools!=50.0.0,>=38.6.0 in /usr/local/lib/python3.10/dist-packages (from pmdarima) (67.7.2)\n",
            "Requirement already satisfied: packaging>=17.1 in /usr/local/lib/python3.10/dist-packages (from pmdarima) (23.2)\n",
            "Requirement already satisfied: python-dateutil>=2.8.1 in /usr/local/lib/python3.10/dist-packages (from pandas>=0.19->pmdarima) (2.8.2)\n",
            "Requirement already satisfied: pytz>=2020.1 in /usr/local/lib/python3.10/dist-packages (from pandas>=0.19->pmdarima) (2023.3.post1)\n",
            "Requirement already satisfied: threadpoolctl>=2.0.0 in /usr/local/lib/python3.10/dist-packages (from scikit-learn>=0.22->pmdarima) (3.2.0)\n",
            "Requirement already satisfied: patsy>=0.5.2 in /usr/local/lib/python3.10/dist-packages (from statsmodels>=0.13.2->pmdarima) (0.5.3)\n",
            "Requirement already satisfied: six in /usr/local/lib/python3.10/dist-packages (from patsy>=0.5.2->statsmodels>=0.13.2->pmdarima) (1.16.0)\n",
            "Installing collected packages: pmdarima\n",
            "Successfully installed pmdarima-2.0.4\n"
          ]
        }
      ]
    },
    {
      "cell_type": "code",
      "source": [
        "plt.scatter(bk['time'],bk['fee_a'])\n",
        "plt.show"
      ],
      "metadata": {
        "colab": {
          "base_uri": "https://localhost:8080/",
          "height": 447
        },
        "id": "cUsSnXHTnymW",
        "outputId": "1bfdf475-bf25-43a7-c492-3883b741f3ba"
      },
      "execution_count": null,
      "outputs": [
        {
          "output_type": "execute_result",
          "data": {
            "text/plain": [
              "<function matplotlib.pyplot.show(close=None, block=None)>"
            ]
          },
          "metadata": {},
          "execution_count": 7
        },
        {
          "output_type": "display_data",
          "data": {
            "text/plain": [
              "<Figure size 640x480 with 1 Axes>"
            ],
            "image/png": "[encoded data removed]"
          },
          "metadata": {}
        }
      ]
    },
    {
      "cell_type": "code",
      "source": [
        "reduced = bk[bk['fee']<1500000000]"
      ],
      "metadata": {
        "id": "cdxSvlwSPSt5"
      },
      "execution_count": null,
      "outputs": []
    },
    {
      "cell_type": "code",
      "source": [
        "bk[bk['fee'].isin(bk['fee'].nlargest(20))].sort_values(by = 'fee')"
      ],
      "metadata": {
        "colab": {
          "base_uri": "https://localhost:8080/",
          "height": 1000
        },
        "id": "JJVWAieJn-Pq",
        "outputId": "7247a79f-e006-4664-8ed9-198bc36ba902"
      },
      "execution_count": null,
      "outputs": [
        {
          "output_type": "execute_result",
          "data": {
            "text/plain": [
              "                      time  height      revenue          fee  tx_count  \\\n",
              "157114 2011-12-11 19:28:02  157114   9296671516   4296671516        39   \n",
              "203662 2012-10-17 06:08:37  203662   9611470000   4611470000       823   \n",
              "258555 2013-09-17 22:53:23  258555   7517993477   5017993477       428   \n",
              "446633 2017-01-04 20:01:28  446633   6353767145   5103767145      2415   \n",
              "260343 2013-09-27 04:07:08  260343   7908455165   5408455165       220   \n",
              "209782 2012-11-27 07:17:17  209782  10900334758   5900334758       184   \n",
              "164382 2012-01-29 13:16:59  164382  11752500000   6752500000        39   \n",
              "470189 2017-06-07 12:30:48  470189   9215735309   7965735309      1475   \n",
              "258562 2013-09-17 23:42:17  258562  10615901183   8115901183       615   \n",
              "258546 2013-09-17 21:23:26  258546  10631862532   8131862532       457   \n",
              "157138 2011-12-11 23:39:20  157138  13591784592   8591784592         6   \n",
              "157077 2011-12-11 15:10:07  157077  13597417976   8597417976        53   \n",
              "353672 2015-04-25 17:36:05  353672  11121369888   8621369888      2355   \n",
              "224588 2013-03-06 23:15:04  224588  11980616665   9480616665       621   \n",
              "201731 2012-10-04 01:29:46  201731  15468299211  10468299211       388   \n",
              "215936 2013-01-10 03:51:25  215936  13649075000  11149075000       615   \n",
              "164384 2012-01-29 13:26:08  164384  17001300000  12001300000        15   \n",
              "157235 2011-12-12 16:57:45  157235  22184649523  17184649523        31   \n",
              "254642 2013-08-28 10:45:17  254642  22522600217  20022600217       584   \n",
              "409008 2016-04-26 14:15:22  409008  31653275103  29153275103      1962   \n",
              "\n",
              "        base_size  input_count    input_value  output_count   output_value  \\\n",
              "157114      31206          156   217146043227            75   222146043227   \n",
              "203662     415910         1868  2348217412520          2177  2353217412520   \n",
              "258555     249028         1364   371743643491           870   374243643491   \n",
              "446633     998143         4284  2871705387827          5641  2872955387827   \n",
              "260343     111589          566   219115395021           541   221615395021   \n",
              "209782      59609          277  1800813673186           356  1805813673186   \n",
              "164382      14895           66    95362096717            74   100362096717   \n",
              "470189     998225         4053   597296173463          3929   598546173463   \n",
              "258562     248566         1195   333259504190          1333   335759504190   \n",
              "258546     325286         1786   192174846863          1249   194674846863   \n",
              "157138      19307          100    35126245147            30    40126245147   \n",
              "157077      43719          208   284096276471           166   289096276471   \n",
              "353672     749144         3573  1865506232832          4927  1868006232832   \n",
              "224588     500384         2478  2065728003861          2239  2068228003861   \n",
              "201731     142980          642  2533611222473           808  2538611222473   \n",
              "215936     240418         1084  1084294486984          1366  1086794486984   \n",
              "164384      14000           70   133872597923            33   138872597923   \n",
              "157235      15275           72   558851853952            56   563851853952   \n",
              "254642     234659         1164   594194694186          1213   596694694186   \n",
              "409008     998129         4528  1719056327803          4387  1721556327803   \n",
              "\n",
              "        protocol_block_reward    difficulty       fee_a  Next_Halving  \n",
              "157114             5000000000  1.090716e+06   42.966715         52886  \n",
              "203662             5000000000  3.072322e+06   46.114700          6338  \n",
              "258555             2500000000  1.126285e+08   50.179935        161445  \n",
              "446633             1250000000  3.176884e+11   51.037671        183367  \n",
              "260343             2500000000  1.488192e+08   54.084552        159657  \n",
              "209782             5000000000  3.438909e+06   59.003348           218  \n",
              "164382             5000000000  1.307728e+06   67.525000         45618  \n",
              "470189             1250000000  6.787601e+11   79.657353        159811  \n",
              "258562             2500000000  1.126285e+08   81.159012        161438  \n",
              "258546             2500000000  1.126285e+08   81.318625        161454  \n",
              "157138             5000000000  1.090716e+06   85.917846         52862  \n",
              "157077             5000000000  1.090716e+06   85.974180         52923  \n",
              "353672             2500000000  4.761056e+10   86.213699         66328  \n",
              "224588             2500000000  4.367876e+06   94.806167        195412  \n",
              "201731             5000000000  3.054628e+06  104.682992          8269  \n",
              "215936             2500000000  3.249550e+06  111.490750        204064  \n",
              "164384             5000000000  1.307728e+06  120.013000         45616  \n",
              "157235             5000000000  1.090716e+06  171.846495         52765  \n",
              "254642             2500000000  6.575006e+07  200.226002        165358  \n",
              "409008             2500000000  1.786783e+11  291.532751         10992  "
            ],
            "text/html": [
              "\n",
              "  <div id=\"df-47940193-c5af-4d1c-80e3-de820c603bee\" class=\"colab-df-container\">\n",
              "    <div>\n",
              "<style scoped>\n",
              "    .dataframe tbody tr th:only-of-type {\n",
              "        vertical-align: middle;\n",
              "    }\n",
              "\n",
              "    .dataframe tbody tr th {\n",
              "        vertical-align: top;\n",
              "    }\n",
              "\n",
              "    .dataframe thead th {\n",
              "        text-align: right;\n",
              "    }\n",
              "</style>\n",
              "<table border=\"1\" class=\"dataframe\">\n",
              "  <thead>\n",
              "    <tr style=\"text-align: right;\">\n",
              "      <th></th>\n",
              "      <th>time</th>\n",
              "      <th>height</th>\n",
              "      <th>revenue</th>\n",
              "      <th>fee</th>\n",
              "      <th>tx_count</th>\n",
              "      <th>base_size</th>\n",
              "      <th>input_count</th>\n",
              "      <th>input_value</th>\n",
              "      <th>output_count</th>\n",
              "      <th>output_value</th>\n",
              "      <th>protocol_block_reward</th>\n",
              "      <th>difficulty</th>\n",
              "      <th>fee_a</th>\n",
              "      <th>Next_Halving</th>\n",
              "    </tr>\n",
              "  </thead>\n",
              "  <tbody>\n",
              "    <tr>\n",
              "      <th>157114</th>\n",
              "      <td>2011-12-11 19:28:02</td>\n",
              "      <td>157114</td>\n",
              "      <td>9296671516</td>\n",
              "      <td>4296671516</td>\n",
              "      <td>39</td>\n",
              "      <td>31206</td>\n",
              "      <td>156</td>\n",
              "      <td>217146043227</td>\n",
              "      <td>75</td>\n",
              "      <td>222146043227</td>\n",
              "      <td>5000000000</td>\n",
              "      <td>1.090716e+06</td>\n",
              "      <td>42.966715</td>\n",
              "      <td>52886</td>\n",
              "    </tr>\n",
              "    <tr>\n",
              "      <th>203662</th>\n",
              "      <td>2012-10-17 06:08:37</td>\n",
              "      <td>203662</td>\n",
              "      <td>9611470000</td>\n",
              "      <td>4611470000</td>\n",
              "      <td>823</td>\n",
              "      <td>415910</td>\n",
              "      <td>1868</td>\n",
              "      <td>2348217412520</td>\n",
              "      <td>2177</td>\n",
              "      <td>2353217412520</td>\n",
              "      <td>5000000000</td>\n",
              "      <td>3.072322e+06</td>\n",
              "      <td>46.114700</td>\n",
              "      <td>6338</td>\n",
              "    </tr>\n",
              "    <tr>\n",
              "      <th>258555</th>\n",
              "      <td>2013-09-17 22:53:23</td>\n",
              "      <td>258555</td>\n",
              "      <td>7517993477</td>\n",
              "      <td>5017993477</td>\n",
              "      <td>428</td>\n",
              "      <td>249028</td>\n",
              "      <td>1364</td>\n",
              "      <td>371743643491</td>\n",
              "      <td>870</td>\n",
              "      <td>374243643491</td>\n",
              "      <td>2500000000</td>\n",
              "      <td>1.126285e+08</td>\n",
              "      <td>50.179935</td>\n",
              "      <td>161445</td>\n",
              "    </tr>\n",
              "    <tr>\n",
              "      <th>446633</th>\n",
              "      <td>2017-01-04 20:01:28</td>\n",
              "      <td>446633</td>\n",
              "      <td>6353767145</td>\n",
              "      <td>5103767145</td>\n",
              "      <td>2415</td>\n",
              "      <td>998143</td>\n",
              "      <td>4284</td>\n",
              "      <td>2871705387827</td>\n",
              "      <td>5641</td>\n",
              "      <td>2872955387827</td>\n",
              "      <td>1250000000</td>\n",
              "      <td>3.176884e+11</td>\n",
              "      <td>51.037671</td>\n",
              "      <td>183367</td>\n",
              "    </tr>\n",
              "    <tr>\n",
              "      <th>260343</th>\n",
              "      <td>2013-09-27 04:07:08</td>\n",
              "      <td>260343</td>\n",
              "      <td>7908455165</td>\n",
              "      <td>5408455165</td>\n",
              "      <td>220</td>\n",
              "      <td>111589</td>\n",
              "      <td>566</td>\n",
              "      <td>219115395021</td>\n",
              "      <td>541</td>\n",
              "      <td>221615395021</td>\n",
              "      <td>2500000000</td>\n",
              "      <td>1.488192e+08</td>\n",
              "      <td>54.084552</td>\n",
              "      <td>159657</td>\n",
              "    </tr>\n",
              "    <tr>\n",
              "      <th>209782</th>\n",
              "      <td>2012-11-27 07:17:17</td>\n",
              "      <td>209782</td>\n",
              "      <td>10900334758</td>\n",
              "      <td>5900334758</td>\n",
              "      <td>184</td>\n",
              "      <td>59609</td>\n",
              "      <td>277</td>\n",
              "      <td>1800813673186</td>\n",
              "      <td>356</td>\n",
              "      <td>1805813673186</td>\n",
              "      <td>5000000000</td>\n",
              "      <td>3.438909e+06</td>\n",
              "      <td>59.003348</td>\n",
              "      <td>218</td>\n",
              "    </tr>\n",
              "    <tr>\n",
              "      <th>164382</th>\n",
              "      <td>2012-01-29 13:16:59</td>\n",
              "      <td>164382</td>\n",
              "      <td>11752500000</td>\n",
              "      <td>6752500000</td>\n",
              "      <td>39</td>\n",
              "      <td>14895</td>\n",
              "      <td>66</td>\n",
              "      <td>95362096717</td>\n",
              "      <td>74</td>\n",
              "      <td>100362096717</td>\n",
              "      <td>5000000000</td>\n",
              "      <td>1.307728e+06</td>\n",
              "      <td>67.525000</td>\n",
              "      <td>45618</td>\n",
              "    </tr>\n",
              "    <tr>\n",
              "      <th>470189</th>\n",
              "      <td>2017-06-07 12:30:48</td>\n",
              "      <td>470189</td>\n",
              "      <td>9215735309</td>\n",
              "      <td>7965735309</td>\n",
              "      <td>1475</td>\n",
              "      <td>998225</td>\n",
              "      <td>4053</td>\n",
              "      <td>597296173463</td>\n",
              "      <td>3929</td>\n",
              "      <td>598546173463</td>\n",
              "      <td>1250000000</td>\n",
              "      <td>6.787601e+11</td>\n",
              "      <td>79.657353</td>\n",
              "      <td>159811</td>\n",
              "    </tr>\n",
              "    <tr>\n",
              "      <th>258562</th>\n",
              "      <td>2013-09-17 23:42:17</td>\n",
              "      <td>258562</td>\n",
              "      <td>10615901183</td>\n",
              "      <td>8115901183</td>\n",
              "      <td>615</td>\n",
              "      <td>248566</td>\n",
              "      <td>1195</td>\n",
              "      <td>333259504190</td>\n",
              "      <td>1333</td>\n",
              "      <td>335759504190</td>\n",
              "      <td>2500000000</td>\n",
              "      <td>1.126285e+08</td>\n",
              "      <td>81.159012</td>\n",
              "      <td>161438</td>\n",
              "    </tr>\n",
              "    <tr>\n",
              "      <th>258546</th>\n",
              "      <td>2013-09-17 21:23:26</td>\n",
              "      <td>258546</td>\n",
              "      <td>10631862532</td>\n",
              "      <td>8131862532</td>\n",
              "      <td>457</td>\n",
              "      <td>325286</td>\n",
              "      <td>1786</td>\n",
              "      <td>192174846863</td>\n",
              "      <td>1249</td>\n",
              "      <td>194674846863</td>\n",
              "      <td>2500000000</td>\n",
              "      <td>1.126285e+08</td>\n",
              "      <td>81.318625</td>\n",
              "      <td>161454</td>\n",
              "    </tr>\n",
              "    <tr>\n",
              "      <th>157138</th>\n",
              "      <td>2011-12-11 23:39:20</td>\n",
              "      <td>157138</td>\n",
              "      <td>13591784592</td>\n",
              "      <td>8591784592</td>\n",
              "      <td>6</td>\n",
              "      <td>19307</td>\n",
              "      <td>100</td>\n",
              "      <td>35126245147</td>\n",
              "      <td>30</td>\n",
              "      <td>40126245147</td>\n",
              "      <td>5000000000</td>\n",
              "      <td>1.090716e+06</td>\n",
              "      <td>85.917846</td>\n",
              "      <td>52862</td>\n",
              "    </tr>\n",
              "    <tr>\n",
              "      <th>157077</th>\n",
              "      <td>2011-12-11 15:10:07</td>\n",
              "      <td>157077</td>\n",
              "      <td>13597417976</td>\n",
              "      <td>8597417976</td>\n",
              "      <td>53</td>\n",
              "      <td>43719</td>\n",
              "      <td>208</td>\n",
              "      <td>284096276471</td>\n",
              "      <td>166</td>\n",
              "      <td>289096276471</td>\n",
              "      <td>5000000000</td>\n",
              "      <td>1.090716e+06</td>\n",
              "      <td>85.974180</td>\n",
              "      <td>52923</td>\n",
              "    </tr>\n",
              "    <tr>\n",
              "      <th>353672</th>\n",
              "      <td>2015-04-25 17:36:05</td>\n",
              "      <td>353672</td>\n",
              "      <td>11121369888</td>\n",
              "      <td>8621369888</td>\n",
              "      <td>2355</td>\n",
              "      <td>749144</td>\n",
              "      <td>3573</td>\n",
              "      <td>1865506232832</td>\n",
              "      <td>4927</td>\n",
              "      <td>1868006232832</td>\n",
              "      <td>2500000000</td>\n",
              "      <td>4.761056e+10</td>\n",
              "      <td>86.213699</td>\n",
              "      <td>66328</td>\n",
              "    </tr>\n",
              "    <tr>\n",
              "      <th>224588</th>\n",
              "      <td>2013-03-06 23:15:04</td>\n",
              "      <td>224588</td>\n",
              "      <td>11980616665</td>\n",
              "      <td>9480616665</td>\n",
              "      <td>621</td>\n",
              "      <td>500384</td>\n",
              "      <td>2478</td>\n",
              "      <td>2065728003861</td>\n",
              "      <td>2239</td>\n",
              "      <td>2068228003861</td>\n",
              "      <td>2500000000</td>\n",
              "      <td>4.367876e+06</td>\n",
              "      <td>94.806167</td>\n",
              "      <td>195412</td>\n",
              "    </tr>\n",
              "    <tr>\n",
              "      <th>201731</th>\n",
              "      <td>2012-10-04 01:29:46</td>\n",
              "      <td>201731</td>\n",
              "      <td>15468299211</td>\n",
              "      <td>10468299211</td>\n",
              "      <td>388</td>\n",
              "      <td>142980</td>\n",
              "      <td>642</td>\n",
              "      <td>2533611222473</td>\n",
              "      <td>808</td>\n",
              "      <td>2538611222473</td>\n",
              "      <td>5000000000</td>\n",
              "      <td>3.054628e+06</td>\n",
              "      <td>104.682992</td>\n",
              "      <td>8269</td>\n",
              "    </tr>\n",
              "    <tr>\n",
              "      <th>215936</th>\n",
              "      <td>2013-01-10 03:51:25</td>\n",
              "      <td>215936</td>\n",
              "      <td>13649075000</td>\n",
              "      <td>11149075000</td>\n",
              "      <td>615</td>\n",
              "      <td>240418</td>\n",
              "      <td>1084</td>\n",
              "      <td>1084294486984</td>\n",
              "      <td>1366</td>\n",
              "      <td>1086794486984</td>\n",
              "      <td>2500000000</td>\n",
              "      <td>3.249550e+06</td>\n",
              "      <td>111.490750</td>\n",
              "      <td>204064</td>\n",
              "    </tr>\n",
              "    <tr>\n",
              "      <th>164384</th>\n",
              "      <td>2012-01-29 13:26:08</td>\n",
              "      <td>164384</td>\n",
              "      <td>17001300000</td>\n",
              "      <td>12001300000</td>\n",
              "      <td>15</td>\n",
              "      <td>14000</td>\n",
              "      <td>70</td>\n",
              "      <td>133872597923</td>\n",
              "      <td>33</td>\n",
              "      <td>138872597923</td>\n",
              "      <td>5000000000</td>\n",
              "      <td>1.307728e+06</td>\n",
              "      <td>120.013000</td>\n",
              "      <td>45616</td>\n",
              "    </tr>\n",
              "    <tr>\n",
              "      <th>157235</th>\n",
              "      <td>2011-12-12 16:57:45</td>\n",
              "      <td>157235</td>\n",
              "      <td>22184649523</td>\n",
              "      <td>17184649523</td>\n",
              "      <td>31</td>\n",
              "      <td>15275</td>\n",
              "      <td>72</td>\n",
              "      <td>558851853952</td>\n",
              "      <td>56</td>\n",
              "      <td>563851853952</td>\n",
              "      <td>5000000000</td>\n",
              "      <td>1.090716e+06</td>\n",
              "      <td>171.846495</td>\n",
              "      <td>52765</td>\n",
              "    </tr>\n",
              "    <tr>\n",
              "      <th>254642</th>\n",
              "      <td>2013-08-28 10:45:17</td>\n",
              "      <td>254642</td>\n",
              "      <td>22522600217</td>\n",
              "      <td>20022600217</td>\n",
              "      <td>584</td>\n",
              "      <td>234659</td>\n",
              "      <td>1164</td>\n",
              "      <td>594194694186</td>\n",
              "      <td>1213</td>\n",
              "      <td>596694694186</td>\n",
              "      <td>2500000000</td>\n",
              "      <td>6.575006e+07</td>\n",
              "      <td>200.226002</td>\n",
              "      <td>165358</td>\n",
              "    </tr>\n",
              "    <tr>\n",
              "      <th>409008</th>\n",
              "      <td>2016-04-26 14:15:22</td>\n",
              "      <td>409008</td>\n",
              "      <td>31653275103</td>\n",
              "      <td>29153275103</td>\n",
              "      <td>1962</td>\n",
              "      <td>998129</td>\n",
              "      <td>4528</td>\n",
              "      <td>1719056327803</td>\n",
              "      <td>4387</td>\n",
              "      <td>1721556327803</td>\n",
              "      <td>2500000000</td>\n",
              "      <td>1.786783e+11</td>\n",
              "      <td>291.532751</td>\n",
              "      <td>10992</td>\n",
              "    </tr>\n",
              "  </tbody>\n",
              "</table>\n",
              "</div>\n",
              "    <div class=\"colab-df-buttons\">\n",
              "\n",
              "  <div class=\"colab-df-container\">\n",
              "    <button class=\"colab-df-convert\" onclick=\"convertToInteractive('df-47940193-c5af-4d1c-80e3-de820c603bee')\"\n",
              "            title=\"Convert this dataframe to an interactive table.\"\n",
              "            style=\"display:none;\">\n",
              "\n",
              "  <svg xmlns=\"http://www.w3.org/2000/svg\" height=\"24px\" viewBox=\"0 -960 960 960\">\n",
              "    <path d=\"M120-120v-720h720v720H120Zm60-500h600v-160H180v160Zm220 220h160v-160H400v160Zm0 220h160v-160H400v160ZM180-400h160v-160H180v160Zm440 0h160v-160H620v160ZM180-180h160v-160H180v160Zm440 0h160v-160H620v160Z\"/>\n",
              "  </svg>\n",
              "    </button>\n",
              "\n",
              "  <style>\n",
              "    .colab-df-container {\n",
              "      display:flex;\n",
              "      gap: 12px;\n",
              "    }\n",
              "\n",
              "    .colab-df-convert {\n",
              "      background-color: #E8F0FE;\n",
              "      border: none;\n",
              "      border-radius: 50%;\n",
              "      cursor: pointer;\n",
              "      display: none;\n",
              "      fill: #1967D2;\n",
              "      height: 32px;\n",
              "      padding: 0 0 0 0;\n",
              "      width: 32px;\n",
              "    }\n",
              "\n",
              "    .colab-df-convert:hover {\n",
              "      background-color: #E2EBFA;\n",
              "      box-shadow: 0px 1px 2px rgba(60, 64, 67, 0.3), 0px 1px 3px 1px rgba(60, 64, 67, 0.15);\n",
              "      fill: #174EA6;\n",
              "    }\n",
              "\n",
              "    .colab-df-buttons div {\n",
              "      margin-bottom: 4px;\n",
              "    }\n",
              "\n",
              "    [theme=dark] .colab-df-convert {\n",
              "      background-color: #3B4455;\n",
              "      fill: #D2E3FC;\n",
              "    }\n",
              "\n",
              "    [theme=dark] .colab-df-convert:hover {\n",
              "      background-color: #434B5C;\n",
              "      box-shadow: 0px 1px 3px 1px rgba(0, 0, 0, 0.15);\n",
              "      filter: drop-shadow(0px 1px 2px rgba(0, 0, 0, 0.3));\n",
              "      fill: #FFFFFF;\n",
              "    }\n",
              "  </style>\n",
              "\n",
              "    <script>\n",
              "      const buttonEl =\n",
              "        document.querySelector('#df-47940193-c5af-4d1c-80e3-de820c603bee button.colab-df-convert');\n",
              "      buttonEl.style.display =\n",
              "        google.colab.kernel.accessAllowed ? 'block' : 'none';\n",
              "\n",
              "      async function convertToInteractive(key) {\n",
              "        const element = document.querySelector('#df-47940193-c5af-4d1c-80e3-de820c603bee');\n",
              "        const dataTable =\n",
              "          await google.colab.kernel.invokeFunction('convertToInteractive',\n",
              "                                                    [key], {});\n",
              "        if (!dataTable) return;\n",
              "\n",
              "        const docLinkHtml = 'Like what you see? Visit the ' +\n",
              "          '<a target=\"_blank\" href=https://colab.research.google.com/notebooks/data_table.ipynb>data table notebook</a>'\n",
              "          + ' to learn more about interactive tables.';\n",
              "        element.innerHTML = '';\n",
              "        dataTable['output_type'] = 'display_data';\n",
              "        await google.colab.output.renderOutput(dataTable, element);\n",
              "        const docLink = document.createElement('div');\n",
              "        docLink.innerHTML = docLinkHtml;\n",
              "        element.appendChild(docLink);\n",
              "      }\n",
              "    </script>\n",
              "  </div>\n",
              "\n",
              "\n",
              "<div id=\"df-f761cdc3-a32e-450f-8887-032f7efcee27\">\n",
              "  <button class=\"colab-df-quickchart\" onclick=\"quickchart('df-f761cdc3-a32e-450f-8887-032f7efcee27')\"\n",
              "            title=\"Suggest charts\"\n",
              "            style=\"display:none;\">\n",
              "\n",
              "<svg xmlns=\"http://www.w3.org/2000/svg\" height=\"24px\"viewBox=\"0 0 24 24\"\n",
              "     width=\"24px\">\n",
              "    <g>\n",
              "        <path d=\"M19 3H5c-1.1 0-2 .9-2 2v14c0 1.1.9 2 2 2h14c1.1 0 2-.9 2-2V5c0-1.1-.9-2-2-2zM9 17H7v-7h2v7zm4 0h-2V7h2v10zm4 0h-2v-4h2v4z\"/>\n",
              "    </g>\n",
              "</svg>\n",
              "  </button>\n",
              "\n",
              "<style>\n",
              "  .colab-df-quickchart {\n",
              "      --bg-color: #E8F0FE;\n",
              "      --fill-color: #1967D2;\n",
              "      --hover-bg-color: #E2EBFA;\n",
              "      --hover-fill-color: #174EA6;\n",
              "      --disabled-fill-color: #AAA;\n",
              "      --disabled-bg-color: #DDD;\n",
              "  }\n",
              "\n",
              "  [theme=dark] .colab-df-quickchart {\n",
              "      --bg-color: #3B4455;\n",
              "      --fill-color: #D2E3FC;\n",
              "      --hover-bg-color: #434B5C;\n",
              "      --hover-fill-color: #FFFFFF;\n",
              "      --disabled-bg-color: #3B4455;\n",
              "      --disabled-fill-color: #666;\n",
              "  }\n",
              "\n",
              "  .colab-df-quickchart {\n",
              "    background-color: var(--bg-color);\n",
              "    border: none;\n",
              "    border-radius: 50%;\n",
              "    cursor: pointer;\n",
              "    display: none;\n",
              "    fill: var(--fill-color);\n",
              "    height: 32px;\n",
              "    padding: 0;\n",
              "    width: 32px;\n",
              "  }\n",
              "\n",
              "  .colab-df-quickchart:hover {\n",
              "    background-color: var(--hover-bg-color);\n",
              "    box-shadow: 0 1px 2px rgba(60, 64, 67, 0.3), 0 1px 3px 1px rgba(60, 64, 67, 0.15);\n",
              "    fill: var(--button-hover-fill-color);\n",
              "  }\n",
              "\n",
              "  .colab-df-quickchart-complete:disabled,\n",
              "  .colab-df-quickchart-complete:disabled:hover {\n",
              "    background-color: var(--disabled-bg-color);\n",
              "    fill: var(--disabled-fill-color);\n",
              "    box-shadow: none;\n",
              "  }\n",
              "\n",
              "  .colab-df-spinner {\n",
              "    border: 2px solid var(--fill-color);\n",
              "    border-color: transparent;\n",
              "    border-bottom-color: var(--fill-color);\n",
              "    animation:\n",
              "      spin 1s steps(1) infinite;\n",
              "  }\n",
              "\n",
              "  @keyframes spin {\n",
              "    0% {\n",
              "      border-color: transparent;\n",
              "      border-bottom-color: var(--fill-color);\n",
              "      border-left-color: var(--fill-color);\n",
              "    }\n",
              "    20% {\n",
              "      border-color: transparent;\n",
              "      border-left-color: var(--fill-color);\n",
              "      border-top-color: var(--fill-color);\n",
              "    }\n",
              "    30% {\n",
              "      border-color: transparent;\n",
              "      border-left-color: var(--fill-color);\n",
              "      border-top-color: var(--fill-color);\n",
              "      border-right-color: var(--fill-color);\n",
              "    }\n",
              "    40% {\n",
              "      border-color: transparent;\n",
              "      border-right-color: var(--fill-color);\n",
              "      border-top-color: var(--fill-color);\n",
              "    }\n",
              "    60% {\n",
              "      border-color: transparent;\n",
              "      border-right-color: var(--fill-color);\n",
              "    }\n",
              "    80% {\n",
              "      border-color: transparent;\n",
              "      border-right-color: var(--fill-color);\n",
              "      border-bottom-color: var(--fill-color);\n",
              "    }\n",
              "    90% {\n",
              "      border-color: transparent;\n",
              "      border-bottom-color: var(--fill-color);\n",
              "    }\n",
              "  }\n",
              "</style>\n",
              "\n",
              "  <script>\n",
              "    async function quickchart(key) {\n",
              "      const quickchartButtonEl =\n",
              "        document.querySelector('#' + key + ' button');\n",
              "      quickchartButtonEl.disabled = true;  // To prevent multiple clicks.\n",
              "      quickchartButtonEl.classList.add('colab-df-spinner');\n",
              "      try {\n",
              "        const charts = await google.colab.kernel.invokeFunction(\n",
              "            'suggestCharts', [key], {});\n",
              "      } catch (error) {\n",
              "        console.error('Error during call to suggestCharts:', error);\n",
              "      }\n",
              "      quickchartButtonEl.classList.remove('colab-df-spinner');\n",
              "      quickchartButtonEl.classList.add('colab-df-quickchart-complete');\n",
              "    }\n",
              "    (() => {\n",
              "      let quickchartButtonEl =\n",
              "        document.querySelector('#df-f761cdc3-a32e-450f-8887-032f7efcee27 button');\n",
              "      quickchartButtonEl.style.display =\n",
              "        google.colab.kernel.accessAllowed ? 'block' : 'none';\n",
              "    })();\n",
              "  </script>\n",
              "</div>\n",
              "    </div>\n",
              "  </div>\n"
            ]
          },
          "metadata": {},
          "execution_count": 20
        }
      ]
    },
    {
      "cell_type": "code",
      "source": [
        "reduced = reduced[reduced['fee']>1000]"
      ],
      "metadata": {
        "id": "GpaDKqAFQ50p"
      },
      "execution_count": null,
      "outputs": []
    },
    {
      "cell_type": "code",
      "source": [
        "plt.scatter(reduced['time'],reduced['fee_a'])\n",
        "plt.show"
      ],
      "metadata": {
        "id": "2lsqTrXdrp0V"
      },
      "execution_count": null,
      "outputs": []
    },
    {
      "cell_type": "code",
      "source": [
        "import pandas as pd\n",
        "\n",
        "split_dates = [\"2012-11-28\", \"2016-07-09\", \"2020-05-11\"]\n",
        "\n",
        "# Convert split_dates to datetime objects\n",
        "split_dates = pd.to_datetime(split_dates)\n",
        "\n",
        "# Ensure split_dates are sorted in ascending order\n",
        "split_dates = sorted(split_dates)\n",
        "\n",
        "# Create bins using IntervalIndex\n",
        "bins = pd.IntervalIndex.from_tuples([(pd.to_datetime('1900-01-01'), split_dates[0])] +\n",
        "                                    [(split_dates[i], split_dates[i + 1]) for i in range(len(split_dates) - 1)] +\n",
        "                                    [(split_dates[-1], pd.to_datetime('2100-01-01'))])\n",
        "\n",
        "# Create labels for each date range\n",
        "bk['date_range'] = pd.cut(bk['time'], bins=bins, labels=False)\n",
        "\n",
        "# Split the DataFrame based on the date ranges\n",
        "split_dataframes = [group for _, group in bk.groupby('date_range')]\n",
        "\n",
        "# Example of usage\n",
        "for i, bk in enumerate(split_dataframes):\n",
        "  plt.scatter(bk['time'], bk['fee'])\n",
        "  plt.xlabel('Time')\n",
        "  plt.ylabel('Fee')\n",
        "  plt.title(f'Scatter Plot sin Outliers basados en Percentiles 5-95 de Fee {i}')\n",
        "  plt.show()\n"
      ],
      "metadata": {
        "id": "ehcrHvmtYGfV",
        "colab": {
          "base_uri": "https://localhost:8080/",
          "height": 1000
        },
        "outputId": "9f7eab0f-29ec-4602-ff03-48ece39d6f95"
      },
      "execution_count": null,
      "outputs": [
        {
          "output_type": "display_data",
          "data": {
            "text/plain": [
              "<Figure size 640x480 with 1 Axes>"
            ],
            "image/png": "[encoded data removed]"
          },
          "metadata": {}
        },
        {
          "output_type": "display_data",
          "data": {
            "text/plain": [
              "<Figure size 640x480 with 1 Axes>"
            ],
            "image/png": "[encoded data removed]"
          },
          "metadata": {}
        },
        {
          "output_type": "display_data",
          "data": {
            "text/plain": [
              "<Figure size 640x480 with 1 Axes>"
            ],
            "image/png": "[encoded data removed]"
          },
          "metadata": {}
        },
        {
          "output_type": "display_data",
          "data": {
            "text/plain": [
              "<Figure size 640x480 with 1 Axes>"
            ],
            "image/png": "[encoded data removed]"
          },
          "metadata": {}
        }
      ]
    },
    {
      "cell_type": "code",
      "source": [
        "bk_day = bk.groupby(bk['time'].dt.date)['fee_a'].mean()"
      ],
      "metadata": {
        "id": "BRvF28oaNwoX"
      },
      "execution_count": null,
      "outputs": []
    },
    {
      "cell_type": "code",
      "source": [
        "plt.scatter(bk_day.index,bk_day.values)"
      ],
      "metadata": {
        "id": "d055TZn21qJu"
      },
      "execution_count": null,
      "outputs": []
    },
    {
      "cell_type": "code",
      "source": [
        "import pandas as pd\n",
        "import matplotlib.pyplot as plt\n",
        "\n",
        "# Assuming bk is your DataFrame and 'time' is the datetime column\n",
        "# Make sure the 'time' column is in datetime format\n",
        "bk['time'] = pd.to_datetime(bk['time'])\n",
        "\n",
        "# Group by the daily average of 'fee'\n",
        "daily_avg_grouped = bk.groupby(bk['time'].dt.date)['fee'].mean()\n",
        "\n",
        "# Updated split dates\n",
        "split_dates = [\"2009-01-03\", \"2012-11-28\", \"2016-07-09\", \"2020-05-11\"]\n",
        "\n",
        "# Create four subplots\n",
        "fig, axs = plt.subplots(2, 2, figsize=(12, 8))\n",
        "fig.suptitle('Scatter Plots of Daily Average Fee')\n",
        "\n",
        "for i, ax in enumerate(axs.flatten()):\n",
        "    start_date = pd.to_datetime(split_dates[i])\n",
        "    end_date = pd.to_datetime(split_dates[i + 1]) if i + 1 < len(split_dates) else daily_avg_grouped.index[-1]\n",
        "    subset_data = daily_avg_grouped.loc[start_date:end_date]\n",
        "\n",
        "    ax.scatter(subset_data.index, subset_data.values)\n",
        "    num_data_points = len(subset_data)\n",
        "    ax.set_title(f'Segment {i + 1} ({num_data_points} points)')\n",
        "    ax.set_xlabel('Date')\n",
        "    ax.set_ylabel('Daily Average of Fee')\n",
        "    #ax.set_ylim(0, 3)  # Set y-axis limit to a maximum of 4\n",
        "\n",
        "plt.tight_layout(rect=[0, 0, 1, 0.96])\n",
        "plt.show()\n",
        "\n",
        "\n"
      ],
      "metadata": {
        "id": "cmqJ_fyn5a45",
        "colab": {
          "base_uri": "https://localhost:8080/",
          "height": 860
        },
        "outputId": "821d01d1-f221-47e3-c1ba-579b5a963e36"
      },
      "execution_count": null,
      "outputs": [
        {
          "output_type": "stream",
          "name": "stderr",
          "text": [
            "<ipython-input-12-b4fe3d2f20af>:21: FutureWarning: Comparison of Timestamp with datetime.date is deprecated in order to match the standard library behavior. In a future version these will be considered non-comparable. Use 'ts == pd.Timestamp(date)' or 'ts.date() == date' instead.\n",
            "  subset_data = daily_avg_grouped.loc[start_date:end_date]\n"
          ]
        },
        {
          "output_type": "display_data",
          "data": {
            "text/plain": [
              "<Figure size 1200x800 with 4 Axes>"
            ],
            "image/png": "[encoded data removed]"
          },
          "metadata": {}
        }
      ]
    },
    {
      "cell_type": "code",
      "source": [
        "pip install arch"
      ],
      "metadata": {
        "colab": {
          "base_uri": "https://localhost:8080/"
        },
        "id": "muKUoLTL0E5a",
        "outputId": "a8bbaa32-80b9-4c34-d76e-ff9a21663f6b"
      },
      "execution_count": null,
      "outputs": [
        {
          "output_type": "stream",
          "name": "stdout",
          "text": [
            "Collecting arch\n",
            "  Downloading arch-6.2.0-cp310-cp310-manylinux_2_17_x86_64.manylinux2014_x86_64.whl (981 kB)\n",
            "\u001b[2K     \u001b[90m━━━━━━━━━━━━━━━━━━━━━━━━━━━━━━━━━━━━━━━━\u001b[0m \u001b[32m981.7/981.7 kB\u001b[0m \u001b[31m6.2 MB/s\u001b[0m eta \u001b[36m0:00:00\u001b[0m\n",
            "\u001b[?25hRequirement already satisfied: numpy>=1.19 in /usr/local/lib/python3.10/dist-packages (from arch) (1.23.5)\n",
            "Requirement already satisfied: scipy>=1.5 in /usr/local/lib/python3.10/dist-packages (from arch) (1.11.3)\n",
            "Requirement already satisfied: pandas>=1.1 in /usr/local/lib/python3.10/dist-packages (from arch) (1.5.3)\n",
            "Requirement already satisfied: statsmodels>=0.12 in /usr/local/lib/python3.10/dist-packages (from arch) (0.14.0)\n",
            "Requirement already satisfied: python-dateutil>=2.8.1 in /usr/local/lib/python3.10/dist-packages (from pandas>=1.1->arch) (2.8.2)\n",
            "Requirement already satisfied: pytz>=2020.1 in /usr/local/lib/python3.10/dist-packages (from pandas>=1.1->arch) (2023.3.post1)\n",
            "Requirement already satisfied: patsy>=0.5.2 in /usr/local/lib/python3.10/dist-packages (from statsmodels>=0.12->arch) (0.5.3)\n",
            "Requirement already satisfied: packaging>=21.3 in /usr/local/lib/python3.10/dist-packages (from statsmodels>=0.12->arch) (23.2)\n",
            "Requirement already satisfied: six in /usr/local/lib/python3.10/dist-packages (from patsy>=0.5.2->statsmodels>=0.12->arch) (1.16.0)\n",
            "Installing collected packages: arch\n",
            "Successfully installed arch-6.2.0\n"
          ]
        }
      ]
    },
    {
      "cell_type": "code",
      "source": [
        "import numpy as np\n",
        "import scipy.stats as sc\n",
        "import statsmodels.api as sm\n",
        "import matplotlib.pyplot as plt\n",
        "import pandas as pd\n",
        "from statsmodels.graphics.tsaplots import plot_acf, plot_pacf\n",
        "import statsmodels.tsa.arima.model as tsa\n",
        "from statsmodels.tsa.stattools import adfuller\n",
        "from arch import arch_model\n",
        "from statsmodels.stats.diagnostic import acorr_ljungbox\n",
        "import tensorflow as tf\n",
        "from pmdarima.arima import auto_arima"
      ],
      "metadata": {
        "id": "hHPCGudfz6l2"
      },
      "execution_count": null,
      "outputs": []
    },
    {
      "cell_type": "code",
      "source": [
        "bk['fee_a'].describe()"
      ],
      "metadata": {
        "colab": {
          "base_uri": "https://localhost:8080/"
        },
        "id": "gqmBf4C40VMr",
        "outputId": "c602ff94-02db-46dc-e04e-a445a3b2009e"
      },
      "execution_count": null,
      "outputs": [
        {
          "output_type": "execute_result",
          "data": {
            "text/plain": [
              "count    665568.000000\n",
              "mean          0.351339\n",
              "std           0.992043\n",
              "min           0.000000\n",
              "25%           0.010553\n",
              "50%           0.097749\n",
              "75%           0.330000\n",
              "max         291.532751\n",
              "Name: fee_a, dtype: float64"
            ]
          },
          "metadata": {},
          "execution_count": 6
        }
      ]
    },
    {
      "cell_type": "code",
      "source": [
        "am = auto_arima(bk['fee'], start_p=0, d=0, start_Q=0, max_p=0, max_q=3, max_d=0, start_P=0, D=0, start_q=0, max_Q=0, max_D=0, max_P=0, m=1, seasonal=False, error_action='warn', trace= True, supress_warnings=True, stepwise=True, random_state=20, n_fits=50)"
      ],
      "metadata": {
        "colab": {
          "base_uri": "https://localhost:8080/"
        },
        "id": "5J0NDSfC1ktT",
        "outputId": "0fb78035-f595-4d93-e03a-d61d5b8cb60c"
      },
      "execution_count": null,
      "outputs": [
        {
          "output_type": "stream",
          "name": "stdout",
          "text": [
            "Performing stepwise search to minimize aic\n",
            " ARIMA(0,0,0)(0,0,0)[0]             : AIC=26477243.830, Time=12.80 sec\n",
            " ARIMA(0,0,1)(0,0,0)[0]             : AIC=26357699.475, Time=21.49 sec\n",
            " ARIMA(0,0,2)(0,0,0)[0]             : AIC=26301818.196, Time=38.65 sec\n",
            " ARIMA(0,0,3)(0,0,0)[0]             : AIC=26273585.069, Time=48.53 sec\n",
            " ARIMA(0,0,3)(0,0,0)[0] intercept   : AIC=26230902.096, Time=95.82 sec\n",
            " ARIMA(0,0,2)(0,0,0)[0] intercept   : AIC=26255533.653, Time=82.36 sec\n",
            "\n",
            "Best model:  ARIMA(0,0,3)(0,0,0)[0] intercept\n",
            "Total fit time: 299.699 seconds\n"
          ]
        }
      ]
    },
    {
      "cell_type": "markdown",
      "source": [
        "Yt = Yt-1 + Yt-2 + Yt-3 + e"
      ],
      "metadata": {
        "id": "w-ksBmK0SjVM"
      }
    },
    {
      "cell_type": "code",
      "source": [
        "modelo= tsa.ARIMA(bk['fee'], order=(0,0,3))\n",
        "modelo_fit= modelo.fit()\n",
        "\n",
        "print(modelo_fit.summary())\n"
      ],
      "metadata": {
        "colab": {
          "base_uri": "https://localhost:8080/"
        },
        "id": "A231qaZVAx0n",
        "outputId": "1607c34d-f8e6-4524-8eab-113035be5d97"
      },
      "execution_count": null,
      "outputs": [
        {
          "output_type": "stream",
          "name": "stdout",
          "text": [
            "                               SARIMAX Results                                \n",
            "==============================================================================\n",
            "Dep. Variable:                    fee   No. Observations:               665568\n",
            "Model:                 ARIMA(0, 0, 3)   Log Likelihood           -13114536.909\n",
            "Date:                Mon, 13 Nov 2023   AIC                       26229083.817\n",
            "Time:                        19:28:18   BIC                       26229140.859\n",
            "Sample:                             0   HQIC                      26229099.776\n",
            "                             - 665568                                         \n",
            "Covariance Type:                  opg                                         \n",
            "==============================================================================\n",
            "                 coef    std err          z      P>|z|      [0.025      0.975]\n",
            "------------------------------------------------------------------------------\n",
            "const       3.513e+07   2.35e-15   1.49e+22      0.000    3.51e+07    3.51e+07\n",
            "ma.L1          0.2929   3.11e-05   9432.457      0.000       0.293       0.293\n",
            "ma.L2          0.2654   4.88e-05   5441.726      0.000       0.265       0.266\n",
            "ma.L3          0.1993   8.72e-05   2285.813      0.000       0.199       0.200\n",
            "sigma2      9.445e+15   9.45e-22   9.99e+36      0.000    9.44e+15    9.44e+15\n",
            "===================================================================================\n",
            "Ljung-Box (L1) (Q):                 997.54   Jarque-Bera (JB):    22988983764318.25\n",
            "Prob(Q):                              0.00   Prob(JB):                         0.00\n",
            "Heteroskedasticity (H):               1.19   Skew:                           108.85\n",
            "Prob(H) (two-sided):                  0.00   Kurtosis:                     28794.01\n",
            "===================================================================================\n",
            "\n",
            "Warnings:\n",
            "[1] Covariance matrix calculated using the outer product of gradients (complex-step).\n",
            "[2] Covariance matrix is singular or near-singular, with condition number 3.96e+50. Standard errors may be unstable.\n"
          ]
        }
      ]
    },
    {
      "cell_type": "code",
      "source": [
        "bk['diff']=bk['fee'].diff()"
      ],
      "metadata": {
        "id": "rRHj_rLpLa-7"
      },
      "execution_count": null,
      "outputs": []
    },
    {
      "cell_type": "code",
      "source": [
        "modelo= tsa.ARIMA(bk['diff'], order=(0,0,3))\n",
        "modelo_fit= modelo.fit()\n",
        "\n",
        "print(modelo_fit.summary())\n"
      ],
      "metadata": {
        "colab": {
          "base_uri": "https://localhost:8080/"
        },
        "id": "u2nQ-T0YLx1s",
        "outputId": "4c21ac17-baa0-49fc-9d60-81f5384c5fa2"
      },
      "execution_count": null,
      "outputs": [
        {
          "output_type": "stream",
          "name": "stdout",
          "text": [
            "                               SARIMAX Results                                \n",
            "==============================================================================\n",
            "Dep. Variable:                   diff   No. Observations:               665568\n",
            "Model:                 ARIMA(0, 0, 3)   Log Likelihood           -13009077.125\n",
            "Date:                Mon, 13 Nov 2023   AIC                       26018164.251\n",
            "Time:                        19:38:51   BIC                       26018221.293\n",
            "Sample:                             0   HQIC                      26018180.209\n",
            "                             - 665568                                         \n",
            "Covariance Type:                  opg                                         \n",
            "==============================================================================\n",
            "                 coef    std err          z      P>|z|      [0.025      0.975]\n",
            "------------------------------------------------------------------------------\n",
            "const         31.0903   3.57e-13   8.72e+13      0.000      31.090      31.090\n",
            "ma.L1         -0.9386   9.16e-05  -1.02e+04      0.000      -0.939      -0.938\n",
            "ma.L2          0.0016      0.000     13.642      0.000       0.001       0.002\n",
            "ma.L3         -0.0378   8.64e-05   -437.819      0.000      -0.038      -0.038\n",
            "sigma2      6.024e+15   1.66e-20   3.63e+35      0.000    6.02e+15    6.02e+15\n",
            "===================================================================================\n",
            "Ljung-Box (L1) (Q):                   0.13   Jarque-Bera (JB):    73921518098366.03\n",
            "Prob(Q):                              0.71   Prob(JB):                         0.00\n",
            "Heteroskedasticity (H):               0.59   Skew:                           174.15\n",
            "Prob(H) (two-sided):                  0.00   Kurtosis:                     51630.96\n",
            "===================================================================================\n",
            "\n",
            "Warnings:\n",
            "[1] Covariance matrix calculated using the outer product of gradients (complex-step).\n",
            "[2] Covariance matrix is singular or near-singular, with condition number 1.2e+48. Standard errors may be unstable.\n"
          ]
        }
      ]
    },
    {
      "cell_type": "markdown",
      "source": [
        " Y_t = Y_{t-1} + NextHalving + e"
      ],
      "metadata": {
        "id": "KM2PsuHyScQK"
      }
    },
    {
      "cell_type": "code",
      "source": [
        "# Assuming 'fee' is the dependent variable and 'NextHalving' is an independent variable\n",
        "model_data = bk[['fee', 'Next_Halving']].copy()\n",
        "\n",
        "# Shift the 'fee' column to get Y_{t-1}\n",
        "model_data['fee_lag'] = model_data['fee'].shift()\n",
        "\n",
        "# Drop NaN values resulting from the shift\n",
        "model_data = model_data.dropna()\n",
        "\n",
        "# Fit the model Y_t = Y_{t-1} + NextHalving + e\n",
        "model = sm.OLS(model_data['fee'], sm.add_constant(model_data[['fee_lag', 'Next_Halving']]))\n",
        "results = model.fit()\n",
        "\n",
        "# Print regression results\n",
        "print(results.summary())"
      ],
      "metadata": {
        "colab": {
          "base_uri": "https://localhost:8080/"
        },
        "id": "i4l60iwZQt5O",
        "outputId": "27fcccaf-0e09-452d-b37a-3c185abbbc24"
      },
      "execution_count": null,
      "outputs": [
        {
          "output_type": "stream",
          "name": "stdout",
          "text": [
            "                            OLS Regression Results                            \n",
            "==============================================================================\n",
            "Dep. Variable:                    fee   R-squared:                       0.226\n",
            "Model:                            OLS   Adj. R-squared:                  0.226\n",
            "Method:                 Least Squares   F-statistic:                 9.706e+04\n",
            "Date:                Mon, 13 Nov 2023   Prob (F-statistic):               0.00\n",
            "Time:                        20:01:48   Log-Likelihood:            -1.3114e+07\n",
            "No. Observations:              665567   AIC:                         2.623e+07\n",
            "Df Residuals:                  665564   BIC:                         2.623e+07\n",
            "Df Model:                           2                                         \n",
            "Covariance Type:            nonrobust                                         \n",
            "================================================================================\n",
            "                   coef    std err          t      P>|t|      [0.025      0.975]\n",
            "--------------------------------------------------------------------------------\n",
            "const         7.591e+06   2.17e+05     34.915      0.000    7.16e+06    8.02e+06\n",
            "fee_lag          0.4631      0.001    426.277      0.000       0.461       0.465\n",
            "Next_Halving   102.7954      1.733     59.327      0.000      99.399     106.191\n",
            "==============================================================================\n",
            "Omnibus:                  2634003.975   Durbin-Watson:                   2.293\n",
            "Prob(Omnibus):                  0.000   Jarque-Bera (JB):   22554137406158.891\n",
            "Skew:                          98.002   Prob(JB):                         0.00\n",
            "Kurtosis:                   28520.574   Cond. No.                     2.14e+08\n",
            "==============================================================================\n",
            "\n",
            "Notes:\n",
            "[1] Standard Errors assume that the covariance matrix of the errors is correctly specified.\n",
            "[2] The condition number is large, 2.14e+08. This might indicate that there are\n",
            "strong multicollinearity or other numerical problems.\n"
          ]
        }
      ]
    },
    {
      "cell_type": "markdown",
      "source": [
        "Delta Transaction Fee (Yt - Yt-1 = Ht + e)"
      ],
      "metadata": {
        "id": "p8_4ydwDSQeU"
      }
    },
    {
      "cell_type": "code",
      "source": [
        "import statsmodels.api as sm\n",
        "import pandas as pd\n",
        "\n",
        "# Assuming 'fee' is the dependent variable and 'NextHalving' is an independent variable\n",
        "model_data = bk[['fee', 'Next_Halving']].copy()\n",
        "\n",
        "# Shift the 'fee' column to get Y_{t-1}\n",
        "model_data['fee_lag'] = model_data['fee'].shift()\n",
        "\n",
        "# Create a new column representing the difference Y_t - Y_{t-1}\n",
        "model_data['fee_diff'] = model_data['fee'] - model_data['fee_lag']\n",
        "\n",
        "# Drop NaN values resulting from the shift\n",
        "model_data = model_data.dropna()\n",
        "\n",
        "# Fit the model (Y_t - Y_{t-1}) = NextHalving + e\n",
        "model = sm.OLS(model_data['fee_diff'], sm.add_constant(model_data[['Next_Halving']]))\n",
        "results = model.fit()\n",
        "\n",
        "# Print regression results\n",
        "print(results.summary())\n"
      ],
      "metadata": {
        "colab": {
          "base_uri": "https://localhost:8080/"
        },
        "id": "EVH84IaXSIYp",
        "outputId": "57d0884e-9fc5-4f09-83f1-05a2d875058d"
      },
      "execution_count": null,
      "outputs": [
        {
          "output_type": "stream",
          "name": "stdout",
          "text": [
            "                            OLS Regression Results                            \n",
            "==============================================================================\n",
            "Dep. Variable:               fee_diff   R-squared:                       0.000\n",
            "Model:                            OLS   Adj. R-squared:                 -0.000\n",
            "Method:                 Least Squares   F-statistic:                  0.003164\n",
            "Date:                Mon, 13 Nov 2023   Prob (F-statistic):              0.955\n",
            "Time:                        20:04:03   Log-Likelihood:            -1.3218e+07\n",
            "No. Observations:              665567   AIC:                         2.644e+07\n",
            "Df Residuals:                  665565   BIC:                         2.644e+07\n",
            "Df Model:                           1                                         \n",
            "Covariance Type:            nonrobust                                         \n",
            "================================================================================\n",
            "                   coef    std err          t      P>|t|      [0.025      0.975]\n",
            "--------------------------------------------------------------------------------\n",
            "const         1.244e+04   2.54e+05      0.049      0.961   -4.85e+05    5.09e+05\n",
            "Next_Halving    -0.1131      2.011     -0.056      0.955      -4.055       3.829\n",
            "==============================================================================\n",
            "Omnibus:                   437523.872   Durbin-Watson:                   2.999\n",
            "Prob(Omnibus):                  0.000   Jarque-Bera (JB):   23547095852699.469\n",
            "Skew:                          -0.501   Prob(JB):                         0.00\n",
            "Kurtosis:                   29142.252   Cond. No.                     2.56e+05\n",
            "==============================================================================\n",
            "\n",
            "Notes:\n",
            "[1] Standard Errors assume that the covariance matrix of the errors is correctly specified.\n",
            "[2] The condition number is large, 2.56e+05. This might indicate that there are\n",
            "strong multicollinearity or other numerical problems.\n"
          ]
        }
      ]
    },
    {
      "cell_type": "markdown",
      "source": [
        "TO DO:\n",
        "\n",
        "- Separate data in 4 segments and do all\n",
        "- Same for regressions\n",
        "- plot diff Bethas so we are able to find the best possible time frame\n",
        "- look for examples while doing diffs\n"
      ],
      "metadata": {
        "id": "Sfow2gLJTrBn"
      }
    },
    {
      "cell_type": "markdown",
      "source": [
        "First Segment"
      ],
      "metadata": {
        "id": "KlfXx4nqV3M_"
      }
    },
    {
      "cell_type": "code",
      "source": [
        "Halv1 = bk[bk['height']<210000]"
      ],
      "metadata": {
        "id": "-WyNXQgLTscT"
      },
      "execution_count": null,
      "outputs": []
    },
    {
      "cell_type": "code",
      "source": [
        "plot_acf(Halv1['fee'])"
      ],
      "metadata": {
        "id": "48tcNOyWVVQ1"
      },
      "execution_count": null,
      "outputs": []
    },
    {
      "cell_type": "code",
      "source": [
        "plot_pacf(Halv1['fee'])"
      ],
      "metadata": {
        "id": "xj50j7P-VpMa"
      },
      "execution_count": null,
      "outputs": []
    },
    {
      "cell_type": "code",
      "source": [
        "# Assuming 'fee' is the dependent variable and 'NextHalving' is an independent variable\n",
        "model_data = Halv1[['fee', 'Next_Halving']].copy()\n",
        "\n",
        "# Shift the 'fee' column to get Y_{t-1}\n",
        "model_data['fee_lag'] = model_data['fee'].shift()\n",
        "Halv1['fee_lag'] = Halv1['fee'].shift()\n",
        "\n",
        "# Drop NaN values resulting from the shift\n",
        "model_data = model_data.dropna()\n",
        "\n",
        "# Fit the model Y_t = Y_{t-1} + NextHalving + e\n",
        "model = sm.OLS(model_data['fee'], sm.add_constant(model_data[['fee_lag', 'Next_Halving']]))\n",
        "results = model.fit()\n",
        "\n",
        "# Print regression results\n",
        "print(results.summary())"
      ],
      "metadata": {
        "id": "bfb1TYJnUE7o",
        "colab": {
          "base_uri": "https://localhost:8080/"
        },
        "outputId": "34f1d75d-9780-4f61-dd61-a2cee17d2970"
      },
      "execution_count": null,
      "outputs": [
        {
          "output_type": "stream",
          "name": "stdout",
          "text": [
            "                            OLS Regression Results                            \n",
            "==============================================================================\n",
            "Dep. Variable:                    fee   R-squared:                       0.007\n",
            "Model:                            OLS   Adj. R-squared:                  0.007\n",
            "Method:                 Least Squares   F-statistic:                     718.0\n",
            "Date:                Thu, 16 Nov 2023   Prob (F-statistic):          1.65e-311\n",
            "Time:                        08:52:48   Log-Likelihood:            -4.0781e+06\n",
            "No. Observations:              209999   AIC:                         8.156e+06\n",
            "Df Residuals:                  209996   BIC:                         8.156e+06\n",
            "Df Model:                           2                                         \n",
            "Covariance Type:            nonrobust                                         \n",
            "================================================================================\n",
            "                   coef    std err          t      P>|t|      [0.025      0.975]\n",
            "--------------------------------------------------------------------------------\n",
            "const         1.172e+07   2.88e+05     40.685      0.000    1.12e+07    1.23e+07\n",
            "fee_lag          0.0435      0.002     19.936      0.000       0.039       0.048\n",
            "Next_Halving   -72.9202      2.371    -30.752      0.000     -77.568     -68.273\n",
            "==============================================================================\n",
            "Omnibus:                   976438.779   Durbin-Watson:                   2.008\n",
            "Prob(Omnibus):                  0.000   Jarque-Bera (JB):   10315545130915.988\n",
            "Skew:                         168.007   Prob(JB):                         0.00\n",
            "Kurtosis:                   34336.834   Cond. No.                     1.33e+08\n",
            "==============================================================================\n",
            "\n",
            "Notes:\n",
            "[1] Standard Errors assume that the covariance matrix of the errors is correctly specified.\n",
            "[2] The condition number is large, 1.33e+08. This might indicate that there are\n",
            "strong multicollinearity or other numerical problems.\n"
          ]
        },
        {
          "output_type": "stream",
          "name": "stderr",
          "text": [
            "<ipython-input-17-0a440761da34>:6: SettingWithCopyWarning: \n",
            "A value is trying to be set on a copy of a slice from a DataFrame.\n",
            "Try using .loc[row_indexer,col_indexer] = value instead\n",
            "\n",
            "See the caveats in the documentation: https://pandas.pydata.org/pandas-docs/stable/user_guide/indexing.html#returning-a-view-versus-a-copy\n",
            "  Halv1['fee_lag'] = Halv1['fee'].shift()\n"
          ]
        }
      ]
    },
    {
      "cell_type": "markdown",
      "source": [
        "Dataframe of bethas"
      ],
      "metadata": {
        "id": "eimaUpdoVyTq"
      }
    },
    {
      "cell_type": "code",
      "source": [
        "FL = pd.DataFrame(columns=['Obs', 'betha_lag', 'betha_H'])\n",
        "\n",
        "for i in np.arange(0,432):\n",
        "  model = sm.OLS(model_data['fee'], sm.add_constant(model_data[['fee_lag', 'Next_Halving']]))\n",
        "  results = model.fit()\n",
        "  FL.loc[i]= [ results.nobs, results.params[1], results.params[2]]\n",
        "  model_data = model_data.iloc[:-1]\n",
        "\n",
        "#results.params[1] #Fee lag betha\n",
        "#results.nobs"
      ],
      "metadata": {
        "id": "ORp31g_T789b"
      },
      "execution_count": null,
      "outputs": []
    },
    {
      "cell_type": "code",
      "source": [
        "plt.plot(FL['Obs'],FL['betha_lag'])"
      ],
      "metadata": {
        "id": "9dR2iswzAbwu"
      },
      "execution_count": null,
      "outputs": []
    },
    {
      "cell_type": "code",
      "source": [
        "plt.plot(FL['Obs'],FL['betha_H'])"
      ],
      "metadata": {
        "id": "2VjFdnVpBWJM"
      },
      "execution_count": null,
      "outputs": []
    },
    {
      "cell_type": "markdown",
      "source": [
        "Finding the height for big betha change"
      ],
      "metadata": {
        "id": "9A6dVCFBV9Hs"
      }
    },
    {
      "cell_type": "code",
      "source": [
        "FL[(FL['Obs'] > 209750) & (FL['Obs'] < 209800)]"
      ],
      "metadata": {
        "id": "88LQ7OTjJ_-V"
      },
      "execution_count": null,
      "outputs": []
    },
    {
      "cell_type": "markdown",
      "source": [
        "Diferentiation in between Estimation and Event"
      ],
      "metadata": {
        "id": "-TtrcLfbWD3k"
      }
    },
    {
      "cell_type": "code",
      "source": [
        "Halv1_Estimation = Halv1[Halv1['height']<=209781]\n",
        "#Halv1_Estimation = Halv1_Estimation[Halv1_Estimation['fee']>0]\n",
        "Halv1_Event = bk[(bk['height']>209781) & (bk['height']<=210219)]\n",
        "Halv1_Pre_Event = bk[(bk['height']>209781) & (bk['height']<210000)]\n",
        "Halv1_Post_Event = bk[(bk['height']>=210000) & (bk['height']<210219)]\n",
        "Halv1_Post_Estimation = bk[(bk['height']>=210219) & (bk['height']<210219+5000)]"
      ],
      "metadata": {
        "id": "vxe-5fGxOT6t"
      },
      "execution_count": null,
      "outputs": []
    },
    {
      "cell_type": "markdown",
      "source": [
        "Estimation process"
      ],
      "metadata": {
        "id": "akEukjqLWMoy"
      }
    },
    {
      "cell_type": "code",
      "source": [
        "# Shift the 'fee' column to get Y_{t-1}\n",
        "Halv1_Estimation['fee_lag'] = Halv1_Estimation['fee'].shift()\n",
        "\n",
        "# Drop NaN values resulting from the shift\n",
        "Halv1_Estimation = Halv1_Estimation.dropna()\n",
        "\n",
        "# Fit the model Y_t = Y_{t-1} + NextHalving + e\n",
        "model_E = sm.OLS(Halv1_Estimation['fee'], sm.add_constant(Halv1_Estimation[['fee_lag', 'Next_Halving']]))\n",
        "results_E = model_E.fit()\n",
        "\n",
        "# Print regression results\n",
        "print(results_E.summary())"
      ],
      "metadata": {
        "colab": {
          "base_uri": "https://localhost:8080/"
        },
        "id": "ivVIMw_LRjma",
        "outputId": "85eecfae-44be-44a7-9885-4766fb1a0793"
      },
      "execution_count": null,
      "outputs": [
        {
          "output_type": "stream",
          "name": "stdout",
          "text": [
            "                            OLS Regression Results                            \n",
            "==============================================================================\n",
            "Dep. Variable:                    fee   R-squared:                       0.003\n",
            "Model:                            OLS   Adj. R-squared:                  0.003\n",
            "Method:                 Least Squares   F-statistic:                     136.0\n",
            "Date:                Tue, 14 Nov 2023   Prob (F-statistic):           1.04e-59\n",
            "Time:                        11:59:11   Log-Likelihood:            -1.7871e+06\n",
            "No. Observations:               90159   AIC:                         3.574e+06\n",
            "Df Residuals:                   90156   BIC:                         3.574e+06\n",
            "Df Model:                           2                                         \n",
            "Covariance Type:            nonrobust                                         \n",
            "================================================================================\n",
            "                   coef    std err          t      P>|t|      [0.025      0.975]\n",
            "--------------------------------------------------------------------------------\n",
            "const          1.43e+07    6.4e+05     22.347      0.000     1.3e+07    1.56e+07\n",
            "fee_lag          0.0449      0.003     13.503      0.000       0.038       0.051\n",
            "Next_Halving  -101.9220     11.274     -9.041      0.000    -124.018     -79.826\n",
            "==============================================================================\n",
            "Omnibus:                   373466.287   Durbin-Watson:                   2.008\n",
            "Prob(Omnibus):                  0.000   Jarque-Bera (JB):     942901728179.806\n",
            "Skew:                         114.588   Prob(JB):                         0.00\n",
            "Kurtosis:                   15844.228   Cond. No.                     1.93e+08\n",
            "==============================================================================\n",
            "\n",
            "Notes:\n",
            "[1] Standard Errors assume that the covariance matrix of the errors is correctly specified.\n",
            "[2] The condition number is large, 1.93e+08. This might indicate that there are\n",
            "strong multicollinearity or other numerical problems.\n"
          ]
        }
      ]
    },
    {
      "cell_type": "code",
      "source": [
        "Halv_Estimated = Halv1_Estimation[['height','fee']]"
      ],
      "metadata": {
        "id": "PE5lOCoJWQiQ"
      },
      "execution_count": null,
      "outputs": []
    },
    {
      "cell_type": "code",
      "source": [
        "Halv_Estimated.loc[209782]=[209782,results_E.params[0] + results_E.params[1] * Halv1_Event['fee_lag'].iloc[0] + results_E.params[2] * Halv1_Event['Next_Halving'].iloc[0]]"
      ],
      "metadata": {
        "colab": {
          "base_uri": "https://localhost:8080/"
        },
        "id": "vvvufMqbXObp",
        "outputId": "8478b7d3-8498-45e9-8718-6a8fbe49687f"
      },
      "execution_count": null,
      "outputs": [
        {
          "output_type": "stream",
          "name": "stderr",
          "text": [
            "<ipython-input-159-d5b30226abcc>:1: SettingWithCopyWarning: \n",
            "A value is trying to be set on a copy of a slice from a DataFrame\n",
            "\n",
            "See the caveats in the documentation: https://pandas.pydata.org/pandas-docs/stable/user_guide/indexing.html#returning-a-view-versus-a-copy\n",
            "  Halv_Estimated.loc[209782]=[209782,results_E.params[0] + results_E.params[1] * Halv1_Event['fee_lag'].iloc[0] + results_E.params[2] * Halv1_Event['Next_Halving'].iloc[0]]\n"
          ]
        }
      ]
    },
    {
      "cell_type": "code",
      "source": [
        "for i in np.arange(1, Halv1_Event.shape[0]):\n",
        "  Halv_Estimated.loc[209782+i]=[209782+i,results_E.params[0] + results_E.params[1] * Halv_Estimated.loc[209781+i]['fee'] + results_E.params[2] * Halv1_Event['Next_Halving'].iloc[i]]"
      ],
      "metadata": {
        "id": "WcU0xop5XhUm"
      },
      "execution_count": null,
      "outputs": []
    },
    {
      "cell_type": "code",
      "source": [
        "Halv_Estimated_reduc = Halv_Estimated[Halv_Estimated['height']>209400]\n",
        "plt.figure(figsize=(12, 7))\n",
        "plt.scatter(Halv_Estimated_reduc['height'], Halv_Estimated_reduc['fee'], label = 'Estimated')\n",
        "plt.scatter(Halv1_Event['height'], Halv1_Event['fee'], label = 'Real')\n",
        "plt.legend()\n"
      ],
      "metadata": {
        "colab": {
          "base_uri": "https://localhost:8080/",
          "height": 631
        },
        "id": "1V8OBKA5egzH",
        "outputId": "da743e3f-69ed-41fd-ab18-0b9ec43421b2"
      },
      "execution_count": null,
      "outputs": [
        {
          "output_type": "execute_result",
          "data": {
            "text/plain": [
              "<matplotlib.legend.Legend at 0x7b0ef29233d0>"
            ]
          },
          "metadata": {},
          "execution_count": 162
        },
        {
          "output_type": "display_data",
          "data": {
            "text/plain": [
              "<Figure size 1200x700 with 1 Axes>"
            ],
            "image/png": "[encoded data removed]"
          },
          "metadata": {}
        }
      ]
    },
    {
      "cell_type": "code",
      "source": [
        "test = results_E.params[0] + results_E.params[1] * Halv1_Event['fee_lag'].iloc[0] + results_E.params[2] * Halv1_Event['Next_Halving'].iloc[0]"
      ],
      "metadata": {
        "colab": {
          "base_uri": "https://localhost:8080/"
        },
        "id": "Avh5-OpoTWlg",
        "outputId": "1555fa97-096f-4c0f-8844-2f118e9d079f"
      },
      "execution_count": null,
      "outputs": [
        {
          "output_type": "execute_result",
          "data": {
            "text/plain": [
              "11655513.938634913"
            ]
          },
          "metadata": {},
          "execution_count": 91
        }
      ]
    },
    {
      "cell_type": "markdown",
      "source": [
        "ARMA(0,1)"
      ],
      "metadata": {
        "id": "urdcrw2KGkwu"
      }
    },
    {
      "cell_type": "code",
      "source": [
        "# Assuming 'fee' is the dependent variable and 'NextHalving' is an independent variable\n",
        "model_data = Halv1[['fee', 'Next_Halving']].copy()\n",
        "\n",
        "# Shift the 'fee' column to get Y_{t-1}\n",
        "model_data['fee_lag'] = model_data['fee'].shift()\n",
        "Halv1['fee_lag'] = Halv1['fee'].shift()\n",
        "\n",
        "# Drop NaN values resulting from the shift\n",
        "model_data = model_data.dropna()\n",
        "\n",
        "# Fit the model Y_t = Y_{t-1} + NextHalving + e\n",
        "model = sm.OLS(model_data['fee'], sm.add_constant(model_data[['fee_lag']]))\n",
        "results = model.fit()\n",
        "\n",
        "# Print regression results\n",
        "print(results.summary())"
      ],
      "metadata": {
        "id": "GzPTuj2nGmzQ",
        "colab": {
          "base_uri": "https://localhost:8080/"
        },
        "outputId": "38c4732f-f0e3-41a6-e726-e0519a66ce6c"
      },
      "execution_count": null,
      "outputs": [
        {
          "output_type": "stream",
          "name": "stdout",
          "text": [
            "                            OLS Regression Results                            \n",
            "==============================================================================\n",
            "Dep. Variable:                    fee   R-squared:                       0.002\n",
            "Model:                            OLS   Adj. R-squared:                  0.002\n",
            "Method:                 Least Squares   F-statistic:                     488.2\n",
            "Date:                Tue, 14 Nov 2023   Prob (F-statistic):          4.58e-108\n",
            "Time:                        13:54:45   Log-Likelihood:            -4.0786e+06\n",
            "No. Observations:              209999   AIC:                         8.157e+06\n",
            "Df Residuals:                  209997   BIC:                         8.157e+06\n",
            "Df Model:                           1                                         \n",
            "Covariance Type:            nonrobust                                         \n",
            "==============================================================================\n",
            "                 coef    std err          t      P>|t|      [0.025      0.975]\n",
            "------------------------------------------------------------------------------\n",
            "const       4.042e+06   1.44e+05     28.068      0.000    3.76e+06    4.32e+06\n",
            "fee_lag        0.0482      0.002     22.096      0.000       0.044       0.052\n",
            "==============================================================================\n",
            "Omnibus:                   974751.333   Durbin-Watson:                   2.009\n",
            "Prob(Omnibus):                  0.000   Jarque-Bera (JB):   10148971676984.729\n",
            "Skew:                         167.016   Prob(JB):                         0.00\n",
            "Kurtosis:                   34058.490   Cond. No.                     6.62e+07\n",
            "==============================================================================\n",
            "\n",
            "Notes:\n",
            "[1] Standard Errors assume that the covariance matrix of the errors is correctly specified.\n",
            "[2] The condition number is large, 6.62e+07. This might indicate that there are\n",
            "strong multicollinearity or other numerical problems.\n"
          ]
        },
        {
          "output_type": "stream",
          "name": "stderr",
          "text": [
            "<ipython-input-164-9e4d96269901>:6: SettingWithCopyWarning: \n",
            "A value is trying to be set on a copy of a slice from a DataFrame.\n",
            "Try using .loc[row_indexer,col_indexer] = value instead\n",
            "\n",
            "See the caveats in the documentation: https://pandas.pydata.org/pandas-docs/stable/user_guide/indexing.html#returning-a-view-versus-a-copy\n",
            "  Halv1['fee_lag'] = Halv1['fee'].shift()\n"
          ]
        }
      ]
    },
    {
      "cell_type": "code",
      "source": [
        "FL = pd.DataFrame(columns=['Obs', 'betha_lag'])\n",
        "\n",
        "for i in np.arange(0,432):\n",
        "  model = sm.OLS(model_data['fee'], sm.add_constant(model_data[['fee_lag']]))\n",
        "  results = model.fit()\n",
        "  FL.loc[i]= [ results.nobs, results.params[1]]\n",
        "  model_data = model_data.iloc[:-1]\n"
      ],
      "metadata": {
        "id": "i8BYuqu8Hdff"
      },
      "execution_count": null,
      "outputs": []
    },
    {
      "cell_type": "code",
      "source": [
        "plt.plot(FL['Obs'],FL['betha_lag'])"
      ],
      "metadata": {
        "id": "t22evRXhHsuK"
      },
      "execution_count": null,
      "outputs": []
    },
    {
      "cell_type": "code",
      "source": [
        "# Shift the 'fee' column to get Y_{t-1}\n",
        "Halv1_Estimation['fee_lag'] = Halv1_Estimation['fee'].shift()\n",
        "\n",
        "# Drop NaN values resulting from the shift\n",
        "Halv1_Estimation = Halv1_Estimation.dropna()\n",
        "\n",
        "# Fit the model Y_t = Y_{t-1} + NextHalving + e\n",
        "model_E = sm.OLS(Halv1_Estimation['fee'], sm.add_constant(Halv1_Estimation[['fee_lag']]))\n",
        "results_E = model_E.fit()\n",
        "\n",
        "# Print regression results\n",
        "print(results_E.summary())"
      ],
      "metadata": {
        "colab": {
          "base_uri": "https://localhost:8080/"
        },
        "id": "wd2kGqN-HvBj",
        "outputId": "ae469094-f99e-4720-ced0-b116497a1a50"
      },
      "execution_count": null,
      "outputs": [
        {
          "output_type": "stream",
          "name": "stdout",
          "text": [
            "                            OLS Regression Results                            \n",
            "==============================================================================\n",
            "Dep. Variable:                    fee   R-squared:                       0.002\n",
            "Model:                            OLS   Adj. R-squared:                  0.002\n",
            "Method:                 Least Squares   F-statistic:                     190.1\n",
            "Date:                Tue, 14 Nov 2023   Prob (F-statistic):           3.33e-43\n",
            "Time:                        13:58:13   Log-Likelihood:            -1.7872e+06\n",
            "No. Observations:               90160   AIC:                         3.574e+06\n",
            "Df Residuals:                   90158   BIC:                         3.574e+06\n",
            "Df Model:                           1                                         \n",
            "Covariance Type:            nonrobust                                         \n",
            "==============================================================================\n",
            "                 coef    std err          t      P>|t|      [0.025      0.975]\n",
            "------------------------------------------------------------------------------\n",
            "const       9.337e+06   3.29e+05     28.379      0.000    8.69e+06    9.98e+06\n",
            "fee_lag        0.0459      0.003     13.788      0.000       0.039       0.052\n",
            "==============================================================================\n",
            "Omnibus:                   373321.989   Durbin-Watson:                   2.009\n",
            "Prob(Omnibus):                  0.000   Jarque-Bera (JB):     939525842043.386\n",
            "Skew:                         114.441   Prob(JB):                         0.00\n",
            "Kurtosis:                   15815.755   Cond. No.                     9.94e+07\n",
            "==============================================================================\n",
            "\n",
            "Notes:\n",
            "[1] Standard Errors assume that the covariance matrix of the errors is correctly specified.\n",
            "[2] The condition number is large, 9.94e+07. This might indicate that there are\n",
            "strong multicollinearity or other numerical problems.\n"
          ]
        }
      ]
    },
    {
      "cell_type": "code",
      "source": [
        "Halv_Estimated.loc[209782]=[209782,results_E.params[0] + results_E.params[1] * Halv1_Event['fee_lag'].iloc[0]]"
      ],
      "metadata": {
        "id": "VbIV5h-nIT11"
      },
      "execution_count": null,
      "outputs": []
    },
    {
      "cell_type": "code",
      "source": [
        "for i in np.arange(1, Halv1_Event.shape[0]):\n",
        "  Halv_Estimated.loc[209782+i]=[209782+i,results_E.params[0] + results_E.params[1] * Halv_Estimated.loc[209781+i]['fee']]"
      ],
      "metadata": {
        "id": "49SQ476RIXBL"
      },
      "execution_count": null,
      "outputs": []
    },
    {
      "cell_type": "code",
      "source": [
        "Halv_Estimated_reduc = Halv_Estimated[Halv_Estimated['height']>209400]\n",
        "plt.figure(figsize=(12, 7))\n",
        "plt.scatter(Halv_Estimated_reduc['height'], Halv_Estimated_reduc['fee'], label = 'Estimated')\n",
        "plt.scatter(Halv1_Event['height'], Halv1_Event['fee'], label = 'Real')\n",
        "plt.legend()"
      ],
      "metadata": {
        "id": "_-w4DtRnIg7d"
      },
      "execution_count": null,
      "outputs": []
    },
    {
      "cell_type": "code",
      "source": [
        "# Create an ARMA model with the given parameters\n",
        "\n",
        "#time_series_data = arma_process.generate_sample(n_obs) + epsilon\n",
        "\n",
        "# Fit an ARMA model to the generated data\n",
        "order = (0, 0, 1)  # (p, q) order of the ARMA model\n",
        "model = tsa.ARIMA(Halv1_Estimation['fee'], order=(0,0,1))\n",
        "results = model.fit()\n",
        "\n",
        "forecast_steps = 100\n",
        "forecast_values = results.forecast(steps=forecast_steps)\n",
        "\n",
        "# Create a new index for the forecast\n",
        "forecast_index = pd.RangeIndex(start=Halv1_Estimation.index[-1] + 1, stop=Halv1_Estimation.index[-1] + forecast_steps + 1)\n",
        "\n",
        "# Plot the original time series and the forecast\n",
        "Halv1_Estimation = Halv1_Estimation[Halv1_Estimation['height']>209400]\n",
        "plt.scatter(Halv1_Estimation['height'],Halv1_Estimation['fee'], label='Original Time Series')\n",
        "plt.scatter(forecast_index, forecast_values, label='Forecast')\n",
        "plt.xlabel('Time')\n",
        "plt.ylabel('Values')\n",
        "plt.legend()\n",
        "plt.show()"
      ],
      "metadata": {
        "id": "DcECxkrGJL91"
      },
      "execution_count": null,
      "outputs": []
    },
    {
      "cell_type": "markdown",
      "source": [
        "STARTOVER WITH ARMA(0,3)"
      ],
      "metadata": {
        "id": "ewUl_nLODg_k"
      }
    },
    {
      "cell_type": "code",
      "source": [
        "modelo= tsa.ARIMA(Halv1['fee'], order=(0,0,3))\n",
        "modelo_fit= modelo.fit()\n",
        "\n",
        "print(modelo_fit.summary())"
      ],
      "metadata": {
        "colab": {
          "base_uri": "https://localhost:8080/"
        },
        "id": "CebOMcIeDgPF",
        "outputId": "6bfc04ab-5db0-4d63-ce49-a8d324f9d9eb"
      },
      "execution_count": null,
      "outputs": [
        {
          "output_type": "stream",
          "name": "stdout",
          "text": [
            "                               SARIMAX Results                                \n",
            "==============================================================================\n",
            "Dep. Variable:                    fee   No. Observations:               210000\n",
            "Model:                 ARIMA(0, 0, 3)   Log Likelihood            -4077665.734\n",
            "Date:                Tue, 14 Nov 2023   AIC                        8155341.467\n",
            "Time:                        13:39:44   BIC                        8155392.741\n",
            "Sample:                             0   HQIC                       8155356.526\n",
            "                             - 210000                                         \n",
            "Covariance Type:                  opg                                         \n",
            "==============================================================================\n",
            "                 coef    std err          z      P>|z|      [0.025      0.975]\n",
            "------------------------------------------------------------------------------\n",
            "const       4.247e+06   5.13e-14   8.28e+19      0.000    4.25e+06    4.25e+06\n",
            "ma.L1          0.0433      0.000    212.849      0.000       0.043       0.044\n",
            "ma.L2          0.0964   5.98e-05   1612.156      0.000       0.096       0.097\n",
            "ma.L3          0.0096      0.001     13.884      0.000       0.008       0.011\n",
            "sigma2      4.299e+15   1.66e-19   2.59e+34      0.000     4.3e+15     4.3e+15\n",
            "===================================================================================\n",
            "Ljung-Box (L1) (Q):                   0.00   Jarque-Bera (JB):     9917790989169.18\n",
            "Prob(Q):                              0.98   Prob(JB):                         0.00\n",
            "Heteroskedasticity (H):             577.79   Skew:                           164.86\n",
            "Prob(H) (two-sided):                  0.00   Kurtosis:                     33668.31\n",
            "===================================================================================\n",
            "\n",
            "Warnings:\n",
            "[1] Covariance matrix calculated using the outer product of gradients (complex-step).\n",
            "[2] Covariance matrix is singular or near-singular, with condition number 7.46e+46. Standard errors may be unstable.\n"
          ]
        }
      ]
    },
    {
      "cell_type": "markdown",
      "source": [
        "Segment 2"
      ],
      "metadata": {
        "id": "I6nPm6b3QTgR"
      }
    },
    {
      "cell_type": "code",
      "source": [
        "Halv2 = bk[(bk['height']<420000) & (bk['height']>=210220+5000) ]"
      ],
      "metadata": {
        "id": "3q5_M15EQVdK"
      },
      "execution_count": null,
      "outputs": []
    },
    {
      "cell_type": "code",
      "source": [
        "plot_acf(Halv2['fee'])"
      ],
      "metadata": {
        "id": "y9UyFdQYV1IL"
      },
      "execution_count": null,
      "outputs": []
    },
    {
      "cell_type": "code",
      "source": [
        "plot_pacf(Halv2['fee'])"
      ],
      "metadata": {
        "id": "190HxXzWWBB0"
      },
      "execution_count": null,
      "outputs": []
    },
    {
      "cell_type": "code",
      "source": [
        "# Assuming 'fee' is the dependent variable and 'NextHalving' is an independent variable\n",
        "model_data = Halv2[['fee', 'Next_Halving']].copy()\n",
        "\n",
        "# Shift the 'fee' column to get Y_{t-1}\n",
        "model_data['fee_lag'] = model_data['fee'].shift()\n",
        "Halv2['fee_lag'] = Halv2['fee'].shift()\n",
        "\n",
        "# Drop NaN values resulting from the shift\n",
        "model_data = model_data.dropna()\n",
        "\n",
        "# Fit the model Y_t = Y_{t-1} + NextHalving + e\n",
        "model = sm.OLS(model_data['fee'], sm.add_constant(model_data[['fee_lag']]))\n",
        "results = model.fit()\n",
        "\n",
        "# Print regression results\n",
        "print(results.summary())"
      ],
      "metadata": {
        "id": "r1vhBODnThGk"
      },
      "execution_count": null,
      "outputs": []
    },
    {
      "cell_type": "code",
      "source": [
        "FL = pd.DataFrame(columns=['Obs', 'betha_lag'])\n",
        "\n",
        "for i in np.arange(0,8640*2):\n",
        "  model = sm.OLS(model_data['fee'], sm.add_constant(model_data[['fee_lag']]))\n",
        "  results = model.fit()\n",
        "  FL.loc[i]= [ results.nobs, results.params[1]]\n",
        "  model_data = model_data.iloc[:-1]"
      ],
      "metadata": {
        "id": "_uYN0vz-T4pq"
      },
      "execution_count": null,
      "outputs": []
    },
    {
      "cell_type": "code",
      "source": [
        "plt.plot(FL['Obs'],FL['betha_lag'])"
      ],
      "metadata": {
        "id": "SGMm3KShUOvv"
      },
      "execution_count": null,
      "outputs": []
    },
    {
      "cell_type": "code",
      "source": [
        "plt.plot(FL[(FL['Obs'] > 198780) & (FL['Obs'] < 198800)]['Obs'],FL[(FL['Obs'] > 198780) & (FL['Obs'] < 198800)]['betha_lag'])"
      ],
      "metadata": {
        "id": "mXo-TXFAVVrs"
      },
      "execution_count": null,
      "outputs": []
    },
    {
      "cell_type": "markdown",
      "source": [
        "Max Betha at 10991, obs 198788, betha 0.019227"
      ],
      "metadata": {
        "id": "D6vqW9L6i7Bj"
      }
    },
    {
      "cell_type": "code",
      "source": [
        "FL[(FL['Obs'] > 198780) & (FL['Obs'] < 210219)]"
      ],
      "metadata": {
        "id": "Nfc3fUthe5bz"
      },
      "execution_count": null,
      "outputs": []
    },
    {
      "cell_type": "code",
      "source": [
        "Halv2_Estimation = Halv2[Halv2['height']<=409008]\n",
        "Halv2_Event = bk[(bk['height']>409008) & (bk['height']<=420000+10992)]\n",
        "Halv2_Pre_Event = bk[(bk['height']>409008) & (bk['height']<420000)]\n",
        "Halv2_Post_Event = bk[(bk['height']>=420000) & (bk['height']<420000+10992)]\n",
        "Halv2_Post_Estimation = bk[(bk['height']>=420000+10992) & (bk['height']<430992+5000)]\n"
      ],
      "metadata": {
        "id": "GYcqtgNDmVbE"
      },
      "execution_count": null,
      "outputs": []
    },
    {
      "cell_type": "markdown",
      "source": [
        "Segment 3"
      ],
      "metadata": {
        "id": "1rjK2Mn9WNBd"
      }
    },
    {
      "cell_type": "code",
      "source": [
        "Halv3 = bk[(bk['height']>=430992+5000) & (bk['height']<630000) ]"
      ],
      "metadata": {
        "id": "BOF__hDiWP-b"
      },
      "execution_count": null,
      "outputs": []
    },
    {
      "cell_type": "code",
      "source": [
        "plot_acf(Halv3['fee'])"
      ],
      "metadata": {
        "id": "Tae6yZ0OWfS8"
      },
      "execution_count": null,
      "outputs": []
    },
    {
      "cell_type": "code",
      "source": [
        "plot_pacf(Halv3['fee'])"
      ],
      "metadata": {
        "id": "Rt1Ew3a4Wl32"
      },
      "execution_count": null,
      "outputs": []
    },
    {
      "cell_type": "code",
      "source": [
        "# Assuming 'fee' is the dependent variable and 'NextHalving' is an independent variable\n",
        "model_data = Halv3[['fee', 'Next_Halving']].copy()\n",
        "\n",
        "# Shift the 'fee' column to get Y_{t-1}\n",
        "model_data['fee_lag'] = model_data['fee'].shift()\n",
        "Halv3['fee_lag'] = Halv3['fee'].shift()\n",
        "\n",
        "# Drop NaN values resulting from the shift\n",
        "model_data = model_data.dropna()\n",
        "\n",
        "# Fit the model Y_t = Y_{t-1} + NextHalving + e\n",
        "model = sm.OLS(model_data['fee'], sm.add_constant(model_data[['fee_lag']]))\n",
        "results = model.fit()\n",
        "\n",
        "# Print regression results\n",
        "print(results.summary())"
      ],
      "metadata": {
        "colab": {
          "base_uri": "https://localhost:8080/"
        },
        "id": "Dq2DNAurZDeX",
        "outputId": "1f827870-3231-41ca-8dd8-b5495240f35c"
      },
      "execution_count": null,
      "outputs": [
        {
          "output_type": "stream",
          "name": "stdout",
          "text": [
            "                            OLS Regression Results                            \n",
            "==============================================================================\n",
            "Dep. Variable:                    fee   R-squared:                       0.692\n",
            "Model:                            OLS   Adj. R-squared:                  0.692\n",
            "Method:                 Least Squares   F-statistic:                 4.462e+05\n",
            "Date:                Thu, 16 Nov 2023   Prob (F-statistic):               0.00\n",
            "Time:                        16:43:46   Log-Likelihood:            -3.8615e+06\n",
            "No. Observations:              199007   AIC:                         7.723e+06\n",
            "Df Residuals:                  199005   BIC:                         7.723e+06\n",
            "Df Model:                           1                                         \n",
            "Covariance Type:            nonrobust                                         \n",
            "==============================================================================\n",
            "                 coef    std err          t      P>|t|      [0.025      0.975]\n",
            "------------------------------------------------------------------------------\n",
            "const       1.342e+07   1.76e+05     76.403      0.000    1.31e+07    1.38e+07\n",
            "fee_lag        0.8316      0.001    668.008      0.000       0.829       0.834\n",
            "==============================================================================\n",
            "Omnibus:                   287118.359   Durbin-Watson:                   2.680\n",
            "Prob(Omnibus):                  0.000   Jarque-Bera (JB):      25575576317.202\n",
            "Skew:                           6.915   Prob(JB):                         0.00\n",
            "Kurtosis:                    1759.187   Cond. No.                     1.71e+08\n",
            "==============================================================================\n",
            "\n",
            "Notes:\n",
            "[1] Standard Errors assume that the covariance matrix of the errors is correctly specified.\n",
            "[2] The condition number is large, 1.71e+08. This might indicate that there are\n",
            "strong multicollinearity or other numerical problems.\n"
          ]
        },
        {
          "output_type": "stream",
          "name": "stderr",
          "text": [
            "<ipython-input-20-dffaaeb3338a>:6: SettingWithCopyWarning: \n",
            "A value is trying to be set on a copy of a slice from a DataFrame.\n",
            "Try using .loc[row_indexer,col_indexer] = value instead\n",
            "\n",
            "See the caveats in the documentation: https://pandas.pydata.org/pandas-docs/stable/user_guide/indexing.html#returning-a-view-versus-a-copy\n",
            "  Halv3['fee_lag'] = Halv3['fee'].shift()\n"
          ]
        }
      ]
    },
    {
      "cell_type": "code",
      "source": [
        "FL = pd.DataFrame(columns=['Obs', 'betha_lag'])\n",
        "\n",
        "for i in np.arange(0,8640*2):\n",
        "  model = sm.OLS(model_data['fee'], sm.add_constant(model_data[['fee_lag']]))\n",
        "  results = model.fit()\n",
        "  FL.loc[i]= [ results.nobs, results.params[1]]\n",
        "  model_data = model_data.iloc[:-1]"
      ],
      "metadata": {
        "id": "ZoNBCqL3HFOh"
      },
      "execution_count": null,
      "outputs": []
    },
    {
      "cell_type": "code",
      "source": [
        "plt.plot(FL['Obs'],FL['betha_lag'])"
      ],
      "metadata": {
        "id": "DSRwh_7rIdOm"
      },
      "execution_count": null,
      "outputs": []
    },
    {
      "cell_type": "code",
      "source": [
        "plt.plot(FL[(FL['Obs'] > 201300) & (FL['Obs'] < 201400)]['Obs'],FL[(FL['Obs'] > 201300) & (FL['Obs'] < 201400)]['betha_lag'])"
      ],
      "metadata": {
        "id": "BZdars9na0tA"
      },
      "execution_count": null,
      "outputs": []
    },
    {
      "cell_type": "markdown",
      "source": [
        "Max Betha at 8663, obs 201336, betha 0.830038"
      ],
      "metadata": {
        "id": "weBCIcrHec4B"
      }
    },
    {
      "cell_type": "code",
      "source": [
        "FL[(FL['Obs'] > 201320) & (FL['Obs'] < 201342)]"
      ],
      "metadata": {
        "id": "GT8gVmHFa1nR"
      },
      "execution_count": null,
      "outputs": []
    },
    {
      "cell_type": "code",
      "source": [
        "Halv3_Estimation = Halv3[Halv3['height']<=621336]\n",
        "Halv3_Event = bk[(bk['height']>621336) & (bk['height']<=638664)]\n",
        "Halv3_Pre_Event = bk[(bk['height']>621336) & (bk['height']<630000)]\n",
        "Halv3_Post_Event = bk[(bk['height']>=630000) & (bk['height']<638664)]\n",
        "Halv3_Post_Estimation = bk[(bk['height']>=638664) & (bk['height']<638664+5000)]"
      ],
      "metadata": {
        "id": "bhe7jlnIBhzJ"
      },
      "execution_count": null,
      "outputs": []
    },
    {
      "cell_type": "markdown",
      "source": [
        "Segment 4"
      ],
      "metadata": {
        "id": "FoLt6Yx0WOnr"
      }
    },
    {
      "cell_type": "code",
      "source": [
        "Halv4 = bk[(bk['height']>=638664+5000) ] #638664"
      ],
      "metadata": {
        "id": "hDazsWcCWam7"
      },
      "execution_count": null,
      "outputs": []
    },
    {
      "cell_type": "code",
      "source": [
        "plot_acf(Halv4['fee'])"
      ],
      "metadata": {
        "id": "4fp1sV0OWnud"
      },
      "execution_count": null,
      "outputs": []
    },
    {
      "cell_type": "code",
      "source": [
        "plot_pacf(Halv4['fee'])"
      ],
      "metadata": {
        "id": "ACe_BS-2WpTr"
      },
      "execution_count": null,
      "outputs": []
    },
    {
      "cell_type": "code",
      "source": [
        "# Assuming 'fee' is the dependent variable and 'NextHalving' is an independent variable\n",
        "model_data = Halv4[['fee', 'Next_Halving']].copy()\n",
        "\n",
        "# Shift the 'fee' column to get Y_{t-1}\n",
        "model_data['fee_lag'] = model_data['fee'].shift()\n",
        "Halv4['fee_lag'] = Halv4['fee'].shift()\n",
        "\n",
        "# Drop NaN values resulting from the shift\n",
        "model_data = model_data.dropna()\n",
        "\n",
        "# Fit the model Y_t = Y_{t-1} + NextHalving + e\n",
        "model = sm.OLS(model_data['fee'], sm.add_constant(model_data[['fee_lag']]))\n",
        "results = model.fit()\n",
        "\n",
        "# Print regression results\n",
        "print(results.summary())"
      ],
      "metadata": {
        "colab": {
          "base_uri": "https://localhost:8080/"
        },
        "id": "hEZ4jLrLSJGh",
        "outputId": "eac657f2-12de-4261-bca5-75cf4396f569"
      },
      "execution_count": null,
      "outputs": [
        {
          "output_type": "stream",
          "name": "stdout",
          "text": [
            "                            OLS Regression Results                            \n",
            "==============================================================================\n",
            "Dep. Variable:                    fee   R-squared:                       0.531\n",
            "Model:                            OLS   Adj. R-squared:                  0.531\n",
            "Method:                 Least Squares   F-statistic:                 4.031e+04\n",
            "Date:                Thu, 16 Nov 2023   Prob (F-statistic):               0.00\n",
            "Time:                        13:18:59   Log-Likelihood:            -6.7008e+05\n",
            "No. Observations:               35567   AIC:                         1.340e+06\n",
            "Df Residuals:                   35565   BIC:                         1.340e+06\n",
            "Df Model:                           1                                         \n",
            "Covariance Type:            nonrobust                                         \n",
            "==============================================================================\n",
            "                 coef    std err          t      P>|t|      [0.025      0.975]\n",
            "------------------------------------------------------------------------------\n",
            "const       1.761e+07   3.06e+05     57.527      0.000     1.7e+07    1.82e+07\n",
            "fee_lag        0.7289      0.004    200.778      0.000       0.722       0.736\n",
            "==============================================================================\n",
            "Omnibus:                     9884.759   Durbin-Watson:                   2.492\n",
            "Prob(Omnibus):                  0.000   Jarque-Bera (JB):            57835.150\n",
            "Skew:                           1.210   Prob(JB):                         0.00\n",
            "Kurtosis:                       8.759   Cond. No.                     1.32e+08\n",
            "==============================================================================\n",
            "\n",
            "Notes:\n",
            "[1] Standard Errors assume that the covariance matrix of the errors is correctly specified.\n",
            "[2] The condition number is large, 1.32e+08. This might indicate that there are\n",
            "strong multicollinearity or other numerical problems.\n"
          ]
        },
        {
          "output_type": "stream",
          "name": "stderr",
          "text": [
            "<ipython-input-20-643574061075>:6: SettingWithCopyWarning: \n",
            "A value is trying to be set on a copy of a slice from a DataFrame.\n",
            "Try using .loc[row_indexer,col_indexer] = value instead\n",
            "\n",
            "See the caveats in the documentation: https://pandas.pydata.org/pandas-docs/stable/user_guide/indexing.html#returning-a-view-versus-a-copy\n",
            "  Halv4['fee_lag'] = Halv4['fee'].shift()\n"
          ]
        }
      ]
    },
    {
      "cell_type": "code",
      "source": [
        "FL = pd.DataFrame(columns=['Obs', 'betha_lag'])\n",
        "\n",
        "for i in np.arange(0,8640*2):\n",
        "  model = sm.OLS(model_data['fee'], sm.add_constant(model_data[['fee_lag']]))\n",
        "  results = model.fit()\n",
        "  FL.loc[i]= [ results.nobs, results.params[1]]\n",
        "  model_data = model_data.iloc[:-1]"
      ],
      "metadata": {
        "id": "w6Um38ZeSTXL"
      },
      "execution_count": null,
      "outputs": []
    },
    {
      "cell_type": "code",
      "source": [
        "plt.plot(FL['Obs'],FL['betha_lag'])"
      ],
      "metadata": {
        "id": "fNyGRansTDrC"
      },
      "execution_count": null,
      "outputs": []
    },
    {
      "cell_type": "code",
      "source": [
        "plt.plot(FL[(FL['Obs'] > 24300) & (FL['Obs'] < 24350)]['betha_lag'])"
      ],
      "metadata": {
        "id": "MHwZYPWxW9JQ"
      },
      "execution_count": null,
      "outputs": []
    },
    {
      "cell_type": "markdown",
      "source": [
        "Min Betha at obs 11232 = 24335 obs, betha = 0.706548"
      ],
      "metadata": {
        "id": "tj1e4_57ZW4H"
      }
    },
    {
      "cell_type": "code",
      "source": [
        "Halv4_Estimation = Halv4[Halv4['height']<=654335]\n",
        "Halv4_Event = bk[bk['height']>654335]\n",
        "Halv4_Pre_Event = bk[bk['height']>654335]\n"
      ],
      "metadata": {
        "id": "wkSjCdTYCwme"
      },
      "execution_count": null,
      "outputs": []
    },
    {
      "cell_type": "code",
      "source": [
        "FL[(FL['Obs'] > 24300) & (FL['Obs'] < 24350)]"
      ],
      "metadata": {
        "id": "OPVUMIXeZOL5"
      },
      "execution_count": null,
      "outputs": []
    },
    {
      "cell_type": "code",
      "source": [
        "# Assuming 'fee' is the dependent variable and 'NextHalving' is an independent variable\n",
        "model_data = Halv4_Estimation[['fee', 'fee_lag','height','difficulty','base_size']].copy()\n",
        "\n",
        "# Shift the 'fee' column to get Y_{t-1}\n",
        "model_data['fee_lag'] = model_data['fee'].shift()\n",
        "Halv4_Estimation['fee_lag'] = Halv4_Estimation['fee'].shift()\n",
        "\n",
        "# Drop NaN values resulting from the shift\n",
        "model_data = model_data.dropna()\n",
        "\n",
        "# Fit the model Y_t = Y_{t-1} + NextHalving + e\n",
        "model = sm.OLS(model_data['fee'], sm.add_constant(model_data[['fee_lag','difficulty','base_size']]))\n",
        "results = model.fit()\n",
        "\n",
        "# Print regression results\n",
        "print(results.summary())"
      ],
      "metadata": {
        "colab": {
          "base_uri": "https://localhost:8080/"
        },
        "id": "oYpLhIu2xfTe",
        "outputId": "b7c25757-a4f7-42eb-e457-43e7fb8e2aab"
      },
      "execution_count": null,
      "outputs": [
        {
          "output_type": "stream",
          "name": "stdout",
          "text": [
            "                            OLS Regression Results                            \n",
            "==============================================================================\n",
            "Dep. Variable:                    fee   R-squared:                       0.520\n",
            "Model:                            OLS   Adj. R-squared:                  0.520\n",
            "Method:                 Least Squares   F-statistic:                     8797.\n",
            "Date:                Fri, 17 Nov 2023   Prob (F-statistic):               0.00\n",
            "Time:                        10:45:34   Log-Likelihood:            -4.5490e+05\n",
            "No. Observations:               24335   AIC:                         9.098e+05\n",
            "Df Residuals:                   24331   BIC:                         9.098e+05\n",
            "Df Model:                           3                                         \n",
            "Covariance Type:            nonrobust                                         \n",
            "==============================================================================\n",
            "                 coef    std err          t      P>|t|      [0.025      0.975]\n",
            "------------------------------------------------------------------------------\n",
            "const      -2.473e+07    2.2e+06    -11.258      0.000    -2.9e+07   -2.04e+07\n",
            "fee_lag        0.6626      0.005    142.642      0.000       0.654       0.672\n",
            "difficulty  8.277e-07   1.23e-07      6.709      0.000    5.86e-07    1.07e-06\n",
            "base_size     36.2598      1.157     31.342      0.000      33.992      38.527\n",
            "==============================================================================\n",
            "Omnibus:                     4213.158   Durbin-Watson:                   2.378\n",
            "Prob(Omnibus):                  0.000   Jarque-Bera (JB):            11500.152\n",
            "Skew:                           0.937   Prob(JB):                         0.00\n",
            "Kurtosis:                       5.799   Cond. No.                     1.84e+14\n",
            "==============================================================================\n",
            "\n",
            "Notes:\n",
            "[1] Standard Errors assume that the covariance matrix of the errors is correctly specified.\n",
            "[2] The condition number is large, 1.84e+14. This might indicate that there are\n",
            "strong multicollinearity or other numerical problems.\n"
          ]
        },
        {
          "output_type": "stream",
          "name": "stderr",
          "text": [
            "<ipython-input-25-dffcd565d6dc>:6: SettingWithCopyWarning: \n",
            "A value is trying to be set on a copy of a slice from a DataFrame.\n",
            "Try using .loc[row_indexer,col_indexer] = value instead\n",
            "\n",
            "See the caveats in the documentation: https://pandas.pydata.org/pandas-docs/stable/user_guide/indexing.html#returning-a-view-versus-a-copy\n",
            "  Halv4_Estimation['fee_lag'] = Halv4_Estimation['fee'].shift()\n"
          ]
        }
      ]
    },
    {
      "cell_type": "code",
      "source": [
        "modelo= tsa.ARIMA(Halv4_Estimation['fee'], order=(0,0,3), exog=Halv4_Estimation[['difficulty','base_size']])\n",
        "modelo_fit= modelo.fit()\n",
        "\n",
        "print(modelo_fit.summary())"
      ],
      "metadata": {
        "colab": {
          "base_uri": "https://localhost:8080/"
        },
        "id": "WlrP-VWhzfpT",
        "outputId": "c8243b4c-79cc-495a-9088-80901a825e0f"
      },
      "execution_count": null,
      "outputs": [
        {
          "output_type": "stream",
          "name": "stderr",
          "text": [
            "/usr/local/lib/python3.10/dist-packages/statsmodels/tsa/base/tsa_model.py:473: ValueWarning: An unsupported index was provided and will be ignored when e.g. forecasting.\n",
            "  self._init_dates(dates, freq)\n",
            "/usr/local/lib/python3.10/dist-packages/statsmodels/tsa/base/tsa_model.py:473: ValueWarning: An unsupported index was provided and will be ignored when e.g. forecasting.\n",
            "  self._init_dates(dates, freq)\n",
            "/usr/local/lib/python3.10/dist-packages/statsmodels/tsa/base/tsa_model.py:473: ValueWarning: An unsupported index was provided and will be ignored when e.g. forecasting.\n",
            "  self._init_dates(dates, freq)\n",
            "/usr/local/lib/python3.10/dist-packages/statsmodels/base/model.py:607: ConvergenceWarning: Maximum Likelihood optimization failed to converge. Check mle_retvals\n",
            "  warnings.warn(\"Maximum Likelihood optimization failed to \"\n"
          ]
        },
        {
          "output_type": "stream",
          "name": "stdout",
          "text": [
            "                               SARIMAX Results                                \n",
            "==============================================================================\n",
            "Dep. Variable:                    fee   No. Observations:                24336\n",
            "Model:                 ARIMA(0, 0, 3)   Log Likelihood             -457043.294\n",
            "Date:                Fri, 17 Nov 2023   AIC                         914100.589\n",
            "Time:                        10:48:12   BIC                         914157.287\n",
            "Sample:                             0   HQIC                        914118.964\n",
            "                              - 24336                                         \n",
            "Covariance Type:                  opg                                         \n",
            "==============================================================================\n",
            "                 coef    std err          z      P>|z|      [0.025      0.975]\n",
            "------------------------------------------------------------------------------\n",
            "const      -5.567e+07   1.86e-12  -2.99e+19      0.000   -5.57e+07   -5.57e+07\n",
            "difficulty  2.804e-06   3.45e-08     81.194      0.000    2.74e-06    2.87e-06\n",
            "base_size     79.3966   2.43e-06   3.27e+07      0.000      79.397      79.397\n",
            "ma.L1          0.3347      0.007     44.636      0.000       0.320       0.349\n",
            "ma.L2          0.2370      0.008     30.856      0.000       0.222       0.252\n",
            "ma.L3          0.2135      0.008     27.198      0.000       0.198       0.229\n",
            "sigma2      1.679e+15   4.35e-19   3.86e+33      0.000    1.68e+15    1.68e+15\n",
            "===================================================================================\n",
            "Ljung-Box (L1) (Q):                1275.53   Jarque-Bera (JB):              6836.22\n",
            "Prob(Q):                              0.00   Prob(JB):                         0.00\n",
            "Heteroskedasticity (H):               0.76   Skew:                             0.98\n",
            "Prob(H) (two-sided):                  0.00   Kurtosis:                         4.71\n",
            "===================================================================================\n",
            "\n",
            "Warnings:\n",
            "[1] Covariance matrix calculated using the outer product of gradients (complex-step).\n",
            "[2] Covariance matrix is singular or near-singular, with condition number 5.27e+47. Standard errors may be unstable.\n"
          ]
        }
      ]
    },
    {
      "cell_type": "code",
      "source": [
        "forecast_steps = 20000\n",
        "exog_forecast = pd.DataFrame({'difficulty': np.random.randn(forecast_steps), 'base_size': np.random.randn(forecast_steps)})  # Replace with your actual exogenous variables\n",
        "forecast_values = modelo_fit.forecast(steps=forecast_steps, exog=exog_forecast)\n",
        "\n",
        "\n",
        "# Create a new index for the forecast\n",
        "forecast_index = pd.RangeIndex(start=Halv4_Estimation.index[-1] + 1, stop=Halv4_Estimation.index[-1] + forecast_steps + 1)\n",
        "\n",
        "# Plot the original time series and the forecast\n",
        "#Halv4_Estimation = Halv4_Estimation[Halv4_Estimation['height']>209400]\n",
        "plt.scatter(Halv4_Estimation['height'],Halv4_Estimation['fee'], label='Original Time Series')\n",
        "plt.scatter(forecast_index, forecast_values, label='Forecast')\n",
        "plt.xlabel('Time')\n",
        "plt.ylabel('Values')\n",
        "plt.legend()\n",
        "plt.show()"
      ],
      "metadata": {
        "id": "Ii9GpZ7z0Lnx"
      },
      "execution_count": null,
      "outputs": []
    },
    {
      "cell_type": "markdown",
      "source": [
        "New approach: Yt = MA(3) + Exo(controls) + δA + δB + δC where A, B, and C are dummys of positioning"
      ],
      "metadata": {
        "id": "EgQKW-LyY72M"
      }
    },
    {
      "cell_type": "code",
      "source": [
        "#Adding the dummies\n",
        "\n",
        "# Function to calculate the distance to 210000 and its multiples\n",
        "def A_dummy(number):\n",
        "    return 1 if (number in Halv1_Estimation['height']) or (number in Halv2_Estimation['height']) or (number in Halv3_Estimation['height']) or (number in Halv4_Estimation['height'])else 0\n",
        "\n",
        "def B_dummy(number):\n",
        "    return 1 if (number in Halv1_Pre_Event['height']) or (number in Halv2_Pre_Event['height']) or (number in Halv3_Pre_Event['height']) or (number in Halv4_Pre_Event['height'])else 0\n",
        "\n",
        "def C_dummy(number):\n",
        "    return 1 if (number in Halv1_Post_Event['height']) or (number in Halv2_Post_Event['height']) or (number in Halv3_Post_Event['height']) else 0\n",
        "\n",
        "bk['A'] = bk['height'].apply(A_dummy)\n",
        "bk['B'] = bk['height'].apply(B_dummy)\n",
        "bk['C'] = bk['height'].apply(C_dummy)\n"
      ],
      "metadata": {
        "id": "6mCFFF2QY7iU"
      },
      "execution_count": null,
      "outputs": []
    },
    {
      "cell_type": "code",
      "source": [
        "bk['test'] = bk['A']+bk['B'] + bk['C']\n",
        "#bk[bk['test']==0]"
      ],
      "metadata": {
        "id": "cehHV8W0ZYs5"
      },
      "execution_count": null,
      "outputs": []
    },
    {
      "cell_type": "code",
      "source": [
        "window1 = pd.concat([Halv1_Estimation,Halv1_Pre_Event, Halv1_Post_Event, Halv1_Post_Estimation])\n",
        "window2 = pd.concat([Halv2_Estimation,Halv2_Pre_Event, Halv2_Post_Event, Halv2_Post_Estimation])\n",
        "window3 = pd.concat([Halv3_Estimation,Halv3_Pre_Event, Halv3_Post_Event, Halv3_Post_Estimation])\n",
        "window4 = pd.concat([Halv4_Estimation,Halv4_Pre_Event])"
      ],
      "metadata": {
        "id": "fiG_DfcDdc-4"
      },
      "execution_count": null,
      "outputs": []
    },
    {
      "cell_type": "code",
      "source": [
        "modelo= tsa.ARIMA(window1['fee'], order=(0,0,3), exog=window1[['difficulty','base_size','A','B','C']])\n",
        "modelo_fit= modelo.fit()\n",
        "\n",
        "print(modelo_fit.summary())"
      ],
      "metadata": {
        "colab": {
          "base_uri": "https://localhost:8080/"
        },
        "id": "K3GOUDyN8LxO",
        "outputId": "f9716372-ece1-464f-e850-9034c8403c9d"
      },
      "execution_count": null,
      "outputs": [
        {
          "output_type": "stream",
          "name": "stdout",
          "text": [
            "                               SARIMAX Results                                \n",
            "==============================================================================\n",
            "Dep. Variable:                    fee   No. Observations:               215219\n",
            "Model:                 ARIMA(0, 0, 3)   Log Likelihood            -4175266.343\n",
            "Date:                Mon, 20 Nov 2023   AIC                        8350552.686\n",
            "Time:                        18:18:17   BIC                        8350655.480\n",
            "Sample:                             0   HQIC                       8350582.845\n",
            "                             - 215219                                         \n",
            "Covariance Type:                  opg                                         \n",
            "==============================================================================\n",
            "                 coef    std err          z      P>|z|      [0.025      0.975]\n",
            "------------------------------------------------------------------------------\n",
            "const       5.906e+05   4.13e-06   1.43e+11      0.000    5.91e+05    5.91e+05\n",
            "difficulty     0.1470      0.140      1.047      0.295      -0.128       0.422\n",
            "base_size    170.7250      2.173     78.574      0.000     166.466     174.984\n",
            "A            1.95e+05   2.22e-06   8.77e+10      0.000    1.95e+05    1.95e+05\n",
            "B           2.678e+07   2.03e-06   1.32e+13      0.000    2.68e+07    2.68e+07\n",
            "C           5.184e+06   4.88e-08   1.06e+14      0.000    5.18e+06    5.18e+06\n",
            "ma.L1          0.0390      0.000    186.672      0.000       0.039       0.039\n",
            "ma.L2          0.0918   6.24e-05   1470.338      0.000       0.092       0.092\n",
            "ma.L3          0.0046      0.001      6.393      0.000       0.003       0.006\n",
            "sigma2      4.152e+15   1.38e-11      3e+26      0.000    4.15e+15    4.15e+15\n",
            "===================================================================================\n",
            "Ljung-Box (L1) (Q):                   0.00   Jarque-Bera (JB):    11133096293809.97\n",
            "Prob(Q):                              1.00   Prob(JB):                         0.00\n",
            "Heteroskedasticity (H):            1392.25   Skew:                           169.48\n",
            "Prob(H) (two-sided):                  0.00   Kurtosis:                     35236.29\n",
            "===================================================================================\n",
            "\n",
            "Warnings:\n",
            "[1] Covariance matrix calculated using the outer product of gradients (complex-step).\n",
            "[2] Covariance matrix is singular or near-singular, with condition number 8.3e+37. Standard errors may be unstable.\n"
          ]
        }
      ]
    },
    {
      "cell_type": "code",
      "source": [
        "modelo_fit.t_test([0,0,0,-1,1,0])"
      ],
      "metadata": {
        "id": "QOrH1cLF_9OL"
      },
      "execution_count": null,
      "outputs": []
    }
  ]
}